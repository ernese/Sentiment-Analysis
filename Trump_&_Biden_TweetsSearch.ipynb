{
  "nbformat": 4,
  "nbformat_minor": 0,
  "metadata": {
    "colab": {
      "name": "Trump_&_Biden.ipynb",
      "provenance": [],
      "collapsed_sections": [],
      "toc_visible": true
    },
    "kernelspec": {
      "name": "python3",
      "display_name": "Python 3"
    }
  },
  "cells": [
    {
      "cell_type": "markdown",
      "metadata": {
        "id": "mzyoX4T9_Asw",
        "colab_type": "text"
      },
      "source": [
        "#Assigment 3: Social Network Analysis for U.S presidential elections\n",
        "<br>42913 Social and Information Network Analysis - Autumn 2020\n",
        "\n",
        "<br>Carlos Mario Carvajal Moreno. Student ID: 13144148\n",
        "<br>Andres Felipe Lagos. Student ID: 13092248\n",
        "<br>Ernest Ilustre.  Student ID: 12763239"
      ]
    },
    {
      "cell_type": "markdown",
      "metadata": {
        "id": "jutDkijLvbrn",
        "colab_type": "text"
      },
      "source": [
        "\n",
        "\n",
        "\n",
        "# The Twitter API and Authentication\n",
        "\n",
        "\n",
        "To access the twitter API, it is required to have twitter developer account. With this account the following authentication credentials can be obtained and will be used for streaming tweets in python from the tweeter API:\n",
        "\n",
        "* API Key\n",
        "* API Secret\n",
        "* Access Token \n",
        "* Access Token Secret\n",
        "\n",
        "However, as the credentials belong to a personal account, the following code will not display them for privacy and security matters. To run this code, please use your own credential or contact one of the owners of this notebook to have a live demonstration.\n",
        "\n",
        "## Tweeter Streaming APIs\n",
        "\n",
        "This API will be used for straming and reading data from twitter. Any public twitter ac in particular we will use the public streams which twitter documentation defines as stream of the public data flowing through tweeter.\n",
        "\n",
        "The following code stream Tweets and retrieve the data in a JSON format that contain great number fields. However, only few will be studied by producing filterings."
      ]
    },
    {
      "cell_type": "code",
      "metadata": {
        "id": "0iWYW9lOOnRe",
        "colab_type": "code",
        "outputId": "455263e2-9b74-4a85-f796-a0c1758fe175",
        "colab": {
          "base_uri": "https://localhost:8080/",
          "height": 224
        }
      },
      "source": [
        "pip install twython"
      ],
      "execution_count": 0,
      "outputs": [
        {
          "output_type": "stream",
          "text": [
            "Collecting twython\n",
            "  Downloading https://files.pythonhosted.org/packages/24/80/579b96dfaa9b536efde883d4f0df7ea2598a6f3117a6dd572787f4a2bcfb/twython-3.8.2-py3-none-any.whl\n",
            "Requirement already satisfied: requests>=2.1.0 in /usr/local/lib/python3.6/dist-packages (from twython) (2.23.0)\n",
            "Requirement already satisfied: requests-oauthlib>=0.4.0 in /usr/local/lib/python3.6/dist-packages (from twython) (1.3.0)\n",
            "Requirement already satisfied: chardet<4,>=3.0.2 in /usr/local/lib/python3.6/dist-packages (from requests>=2.1.0->twython) (3.0.4)\n",
            "Requirement already satisfied: certifi>=2017.4.17 in /usr/local/lib/python3.6/dist-packages (from requests>=2.1.0->twython) (2020.4.5.1)\n",
            "Requirement already satisfied: urllib3!=1.25.0,!=1.25.1,<1.26,>=1.21.1 in /usr/local/lib/python3.6/dist-packages (from requests>=2.1.0->twython) (1.24.3)\n",
            "Requirement already satisfied: idna<3,>=2.5 in /usr/local/lib/python3.6/dist-packages (from requests>=2.1.0->twython) (2.9)\n",
            "Requirement already satisfied: oauthlib>=3.0.0 in /usr/local/lib/python3.6/dist-packages (from requests-oauthlib>=0.4.0->twython) (3.1.0)\n",
            "Installing collected packages: twython\n",
            "Successfully installed twython-3.8.2\n"
          ],
          "name": "stdout"
        }
      ]
    },
    {
      "cell_type": "markdown",
      "metadata": {
        "id": "j_D9DgyLdQIv",
        "colab_type": "text"
      },
      "source": [
        "#Trump"
      ]
    },
    {
      "cell_type": "code",
      "metadata": {
        "id": "C1yqlBf1vTZH",
        "colab_type": "code",
        "outputId": "61d01e03-64f4-44f0-d83c-fbad12cf498f",
        "colab": {
          "base_uri": "https://localhost:8080/",
          "height": 564
        }
      },
      "source": [
        "import tweepy, json\n",
        "import pandas as pd\n",
        "from twython import Twython\n",
        "import csv\n",
        "import os\n",
        "\n",
        "#Please use your twitter developer credentials in the following fields to run this code\n",
        "access_token = \"\"\n",
        "access_token_secret = \"\"\n",
        "consumer_key = \"\"\n",
        "consumer_secret = \"\"\n",
        "\n",
        "#pass the api key and secret to the handler\n",
        "#pass the credentials using the set_access_token method\n",
        "auth = tweepy.OAuthHandler(consumer_key, consumer_secret)\n",
        "auth.set_access_token(access_token, access_token_secret)\n",
        "\n",
        "api = tweepy.API(auth)\n",
        "\n",
        "#streaming tweets from april\n",
        "trumps_ids = ['1269452057737641984','1268869176283856896','1267669366885269504',\n",
        "       '1265792961612320769','1263841841654444049','1261674403311562753',\n",
        "       '1259923682887073792','1258432889303248896','1255831850238578688',\n",
        "       '1253296736589807619','1250852583318736896','1248026598860881921',\n",
        "       '1245002941519613956'] \n",
        "\n",
        "# Creating an empty dictionary to append the tweets\n",
        "dict_ = {'Tweet_id': [], 'User_id':[], 'user': [], 'date': [], 'text': [], 'favourites_count': [],\n",
        "         \"followers_count\": [], \"Retweet_count\":[], 'Place':[]}\n",
        "\n",
        "for tweet in trumps_ids:\n",
        "  trump = api.user_timeline(user_id = '25073877', max_id = tweet ,count = 1000)\n",
        "  # For loop to append data into the dictionary        \n",
        "  for i in range(len(trump)):\n",
        "    dict_['Tweet_id'].append(trump[i]._json['id'])\n",
        "    dict_['user'].append(trump[i]._json['user']['screen_name'])\n",
        "    dict_['User_id'].append(trump[i]._json['user']['id_str'])\n",
        "    dict_['date'].append(trump[i]._json['created_at'])\n",
        "    if 'extended_tweet' in trump[i]._json.keys():\n",
        "      dict_['text'].append(trump[i]._json['extended_tweet']['full_text'])\n",
        "    else:\n",
        "      dict_['text'].append(trump[i]._json['text'])\n",
        "    dict_['favourites_count'].append(trump[i]._json['favorite_count'])\n",
        "    dict_['followers_count'].append(trump[i]._json['user']['followers_count'])\n",
        "    dict_['Retweet_count'].append(trump[i]._json['retweet_count'])\n",
        "    dict_['Place'].append(trump[i]._json['user']['location'])\n",
        "\n",
        "# Structure data in a pandas DataFrame for easier manipulation\n",
        "df = pd.DataFrame(dict_)\n",
        "df.sort_values(by='Tweet_id', inplace=True, ascending=False)\n",
        "df.head()\n"
      ],
      "execution_count": 0,
      "outputs": [
        {
          "output_type": "execute_result",
          "data": {
            "text/html": [
              "<div>\n",
              "<style scoped>\n",
              "    .dataframe tbody tr th:only-of-type {\n",
              "        vertical-align: middle;\n",
              "    }\n",
              "\n",
              "    .dataframe tbody tr th {\n",
              "        vertical-align: top;\n",
              "    }\n",
              "\n",
              "    .dataframe thead th {\n",
              "        text-align: right;\n",
              "    }\n",
              "</style>\n",
              "<table border=\"1\" class=\"dataframe\">\n",
              "  <thead>\n",
              "    <tr style=\"text-align: right;\">\n",
              "      <th></th>\n",
              "      <th>Tweet_id</th>\n",
              "      <th>User_id</th>\n",
              "      <th>user</th>\n",
              "      <th>date</th>\n",
              "      <th>text</th>\n",
              "      <th>favourites_count</th>\n",
              "      <th>followers_count</th>\n",
              "      <th>Retweet_count</th>\n",
              "      <th>Place</th>\n",
              "    </tr>\n",
              "  </thead>\n",
              "  <tbody>\n",
              "    <tr>\n",
              "      <th>0</th>\n",
              "      <td>1269452057737641984</td>\n",
              "      <td>25073877</td>\n",
              "      <td>realDonaldTrump</td>\n",
              "      <td>Sun Jun 07 02:12:10 +0000 2020</td>\n",
              "      <td>.@CNN &amp;amp; MSDNC are doing everything possibl...</td>\n",
              "      <td>104340</td>\n",
              "      <td>81892394</td>\n",
              "      <td>24280</td>\n",
              "      <td>Washington, DC</td>\n",
              "    </tr>\n",
              "    <tr>\n",
              "      <th>1</th>\n",
              "      <td>1269451304503574528</td>\n",
              "      <td>25073877</td>\n",
              "      <td>realDonaldTrump</td>\n",
              "      <td>Sun Jun 07 02:09:10 +0000 2020</td>\n",
              "      <td>Much smaller crowd in D.C. than anticipated. N...</td>\n",
              "      <td>145684</td>\n",
              "      <td>81892394</td>\n",
              "      <td>27797</td>\n",
              "      <td>Washington, DC</td>\n",
              "    </tr>\n",
              "    <tr>\n",
              "      <th>2</th>\n",
              "      <td>1269400770472001539</td>\n",
              "      <td>25073877</td>\n",
              "      <td>realDonaldTrump</td>\n",
              "      <td>Sat Jun 06 22:48:22 +0000 2020</td>\n",
              "      <td>LAW &amp;amp; ORDER!</td>\n",
              "      <td>250891</td>\n",
              "      <td>81892394</td>\n",
              "      <td>47392</td>\n",
              "      <td>Washington, DC</td>\n",
              "    </tr>\n",
              "    <tr>\n",
              "      <th>3</th>\n",
              "      <td>1269396484048465921</td>\n",
              "      <td>25073877</td>\n",
              "      <td>realDonaldTrump</td>\n",
              "      <td>Sat Jun 06 22:31:20 +0000 2020</td>\n",
              "      <td>Wow! 96% Approval Rating in the Republican Par...</td>\n",
              "      <td>184015</td>\n",
              "      <td>81892394</td>\n",
              "      <td>33927</td>\n",
              "      <td>Washington, DC</td>\n",
              "    </tr>\n",
              "    <tr>\n",
              "      <th>4</th>\n",
              "      <td>1269357552854327296</td>\n",
              "      <td>25073877</td>\n",
              "      <td>realDonaldTrump</td>\n",
              "      <td>Sat Jun 06 19:56:38 +0000 2020</td>\n",
              "      <td>https://t.co/hJSsx86Azp</td>\n",
              "      <td>55603</td>\n",
              "      <td>81892394</td>\n",
              "      <td>19641</td>\n",
              "      <td>Washington, DC</td>\n",
              "    </tr>\n",
              "  </tbody>\n",
              "</table>\n",
              "</div>"
            ],
            "text/plain": [
              "              Tweet_id   User_id  ... Retweet_count           Place\n",
              "0  1269452057737641984  25073877  ...         24280  Washington, DC\n",
              "1  1269451304503574528  25073877  ...         27797  Washington, DC\n",
              "2  1269400770472001539  25073877  ...         47392  Washington, DC\n",
              "3  1269396484048465921  25073877  ...         33927  Washington, DC\n",
              "4  1269357552854327296  25073877  ...         19641  Washington, DC\n",
              "\n",
              "[5 rows x 9 columns]"
            ]
          },
          "metadata": {
            "tags": []
          },
          "execution_count": 118
        }
      ]
    },
    {
      "cell_type": "code",
      "metadata": {
        "id": "spY9EzPSclBp",
        "colab_type": "code",
        "colab": {}
      },
      "source": [
        "from google.colab import files\n",
        "df.to_csv('trump.csv')\n",
        "\n",
        "files.download('trump.csv')"
      ],
      "execution_count": 0,
      "outputs": []
    },
    {
      "cell_type": "markdown",
      "metadata": {
        "id": "o4sWv_e0dKfv",
        "colab_type": "text"
      },
      "source": [
        "#Biden"
      ]
    },
    {
      "cell_type": "code",
      "metadata": {
        "id": "88K6Ew9UdL6a",
        "colab_type": "code",
        "outputId": "9e551b3e-c7ea-4549-b3e3-b5e28ee14b4e",
        "colab": {
          "base_uri": "https://localhost:8080/",
          "height": 510
        }
      },
      "source": [
        "#streaming tweets from april\n",
        "biden_ids = ['1269426345391644673','1260701573765836805','1252950280708055040',\n",
        "             '1244414536582598657'] \n",
        "\n",
        "# Creating an empty dictionary to append the tweets\n",
        "dict_biden = {'Tweet_id': [], 'User_id':[], 'user': [], 'date': [], 'text': [], 'favourites_count': [],\n",
        "         \"followers_count\": [], \"Retweet_count\":[], 'Place':[]}\n",
        "\n",
        "for tweet in biden_ids:\n",
        "  biden = api.user_timeline(user_id = '939091', max_id = tweet ,count = 1000)\n",
        "  # For loop to append data into the dictionary        \n",
        "  for i in range(len(biden)):\n",
        "    dict_biden['Tweet_id'].append(biden[i]._json['id'])\n",
        "    dict_biden['user'].append(biden[i]._json['user']['screen_name'])\n",
        "    dict_biden['User_id'].append(biden[i]._json['user']['id_str'])\n",
        "    dict_biden['date'].append(biden[i]._json['created_at'])\n",
        "    if 'extended_tweet' in biden[i]._json.keys():\n",
        "      dict_biden['text'].append(biden[i]._json['extended_tweet']['full_text'])\n",
        "    else:\n",
        "      dict_biden['text'].append(biden[i]._json['text'])\n",
        "    dict_biden['favourites_count'].append(biden[i]._json['favorite_count'])\n",
        "    dict_biden['followers_count'].append(biden[i]._json['user']['followers_count'])\n",
        "    dict_biden['Retweet_count'].append(biden[i]._json['retweet_count'])\n",
        "    dict_biden['Place'].append(biden[i]._json['user']['location'])\n",
        "\n",
        "# Structure data in a pandas DataFrame for easier manipulation\n",
        "df2 = pd.DataFrame(dict_biden)\n",
        "df2.sort_values(by='Tweet_id', inplace=True, ascending=False)\n",
        "df2.head()\n"
      ],
      "execution_count": 0,
      "outputs": [
        {
          "output_type": "execute_result",
          "data": {
            "text/html": [
              "<div>\n",
              "<style scoped>\n",
              "    .dataframe tbody tr th:only-of-type {\n",
              "        vertical-align: middle;\n",
              "    }\n",
              "\n",
              "    .dataframe tbody tr th {\n",
              "        vertical-align: top;\n",
              "    }\n",
              "\n",
              "    .dataframe thead th {\n",
              "        text-align: right;\n",
              "    }\n",
              "</style>\n",
              "<table border=\"1\" class=\"dataframe\">\n",
              "  <thead>\n",
              "    <tr style=\"text-align: right;\">\n",
              "      <th></th>\n",
              "      <th>Tweet_id</th>\n",
              "      <th>User_id</th>\n",
              "      <th>user</th>\n",
              "      <th>date</th>\n",
              "      <th>text</th>\n",
              "      <th>favourites_count</th>\n",
              "      <th>followers_count</th>\n",
              "      <th>Retweet_count</th>\n",
              "      <th>Place</th>\n",
              "    </tr>\n",
              "  </thead>\n",
              "  <tbody>\n",
              "    <tr>\n",
              "      <th>0</th>\n",
              "      <td>1269426345391644673</td>\n",
              "      <td>939091</td>\n",
              "      <td>JoeBiden</td>\n",
              "      <td>Sun Jun 07 00:30:00 +0000 2020</td>\n",
              "      <td>We need to stand up as a nation — with the Bla...</td>\n",
              "      <td>46511</td>\n",
              "      <td>6054131</td>\n",
              "      <td>9042</td>\n",
              "      <td>Wilmington, DE</td>\n",
              "    </tr>\n",
              "    <tr>\n",
              "      <th>1</th>\n",
              "      <td>1269411246228586505</td>\n",
              "      <td>939091</td>\n",
              "      <td>JoeBiden</td>\n",
              "      <td>Sat Jun 06 23:30:00 +0000 2020</td>\n",
              "      <td>I promised George Floyd's family that he would...</td>\n",
              "      <td>93486</td>\n",
              "      <td>6054131</td>\n",
              "      <td>15594</td>\n",
              "      <td>Wilmington, DE</td>\n",
              "    </tr>\n",
              "    <tr>\n",
              "      <th>2</th>\n",
              "      <td>1269393629983969280</td>\n",
              "      <td>939091</td>\n",
              "      <td>JoeBiden</td>\n",
              "      <td>Sat Jun 06 22:20:00 +0000 2020</td>\n",
              "      <td>To all those families who are scared, and hurt...</td>\n",
              "      <td>28241</td>\n",
              "      <td>6054131</td>\n",
              "      <td>6609</td>\n",
              "      <td>Wilmington, DE</td>\n",
              "    </tr>\n",
              "    <tr>\n",
              "      <th>3</th>\n",
              "      <td>1269365948315652096</td>\n",
              "      <td>939091</td>\n",
              "      <td>JoeBiden</td>\n",
              "      <td>Sat Jun 06 20:30:00 +0000 2020</td>\n",
              "      <td>Today, we honor those who answered duty’s call...</td>\n",
              "      <td>51792</td>\n",
              "      <td>6054131</td>\n",
              "      <td>9593</td>\n",
              "      <td>Wilmington, DE</td>\n",
              "    </tr>\n",
              "    <tr>\n",
              "      <th>4</th>\n",
              "      <td>1269354622881128451</td>\n",
              "      <td>939091</td>\n",
              "      <td>JoeBiden</td>\n",
              "      <td>Sat Jun 06 19:45:00 +0000 2020</td>\n",
              "      <td>Today, the pain is so raw it can be hard to ke...</td>\n",
              "      <td>30780</td>\n",
              "      <td>6054131</td>\n",
              "      <td>7695</td>\n",
              "      <td>Wilmington, DE</td>\n",
              "    </tr>\n",
              "  </tbody>\n",
              "</table>\n",
              "</div>"
            ],
            "text/plain": [
              "              Tweet_id User_id  ... Retweet_count           Place\n",
              "0  1269426345391644673  939091  ...          9042  Wilmington, DE\n",
              "1  1269411246228586505  939091  ...         15594  Wilmington, DE\n",
              "2  1269393629983969280  939091  ...          6609  Wilmington, DE\n",
              "3  1269365948315652096  939091  ...          9593  Wilmington, DE\n",
              "4  1269354622881128451  939091  ...          7695  Wilmington, DE\n",
              "\n",
              "[5 rows x 9 columns]"
            ]
          },
          "metadata": {
            "tags": []
          },
          "execution_count": 123
        }
      ]
    },
    {
      "cell_type": "code",
      "metadata": {
        "id": "L2fFjeB1KqYY",
        "colab_type": "code",
        "colab": {}
      },
      "source": [
        "from google.colab import files\n",
        "df2.to_csv('biden.csv')\n",
        "\n",
        "files.download('biden.csv')"
      ],
      "execution_count": 0,
      "outputs": []
    }
  ]
}