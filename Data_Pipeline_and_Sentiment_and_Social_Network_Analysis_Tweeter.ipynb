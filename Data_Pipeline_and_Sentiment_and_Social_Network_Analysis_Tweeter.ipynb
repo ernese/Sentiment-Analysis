{
  "nbformat": 4,
  "nbformat_minor": 0,
  "metadata": {
    "colab": {
      "name": "Sentiment and Social Network Analysis Tweeter.ipynb",
      "provenance": [],
      "collapsed_sections": []
    },
    "kernelspec": {
      "name": "python3",
      "display_name": "Python 3"
    }
  },
  "cells": [
    {
      "cell_type": "markdown",
      "metadata": {
        "id": "mzyoX4T9_Asw",
        "colab_type": "text"
      },
      "source": [
        "#Assigment 3: Social Network Analysis for U.S presidential elections\n",
        "<br>42913 Social and Information Network Analysis - Autumn 2020\n",
        "\n",
        "<br>Carlos Mario Carvajal Moreno. Student ID: 13144148\n",
        "<br>Andres Felipe Lagos. Student ID: 13092248\n",
        "<br>Ernest Ilustre.  Student ID: 12763239"
      ]
    },
    {
      "cell_type": "markdown",
      "metadata": {
        "id": "jutDkijLvbrn",
        "colab_type": "text"
      },
      "source": [
        "# Sentiment Analysis of data collected\n",
        "\n",
        "## TextBlob and other libraries\n",
        "\n",
        "The following libraries were imported into the python file in order to wrangle the data to the desire format, with the desire observations and "
      ]
    },
    {
      "cell_type": "code",
      "metadata": {
        "id": "Uv6be7LjF13J",
        "colab_type": "code",
        "outputId": "2f18d3e4-f0f6-42e8-c566-c3f8f5083393",
        "colab": {
          "base_uri": "https://localhost:8080/",
          "height": 173
        }
      },
      "source": [
        "pip install twython"
      ],
      "execution_count": 17,
      "outputs": [
        {
          "output_type": "stream",
          "text": [
            "Requirement already satisfied: twython in /usr/local/lib/python3.6/dist-packages (3.8.2)\n",
            "Requirement already satisfied: requests-oauthlib>=0.4.0 in /usr/local/lib/python3.6/dist-packages (from twython) (1.3.0)\n",
            "Requirement already satisfied: requests>=2.1.0 in /usr/local/lib/python3.6/dist-packages (from twython) (2.23.0)\n",
            "Requirement already satisfied: oauthlib>=3.0.0 in /usr/local/lib/python3.6/dist-packages (from requests-oauthlib>=0.4.0->twython) (3.1.0)\n",
            "Requirement already satisfied: urllib3!=1.25.0,!=1.25.1,<1.26,>=1.21.1 in /usr/local/lib/python3.6/dist-packages (from requests>=2.1.0->twython) (1.24.3)\n",
            "Requirement already satisfied: chardet<4,>=3.0.2 in /usr/local/lib/python3.6/dist-packages (from requests>=2.1.0->twython) (3.0.4)\n",
            "Requirement already satisfied: idna<3,>=2.5 in /usr/local/lib/python3.6/dist-packages (from requests>=2.1.0->twython) (2.9)\n",
            "Requirement already satisfied: certifi>=2017.4.17 in /usr/local/lib/python3.6/dist-packages (from requests>=2.1.0->twython) (2020.4.5.1)\n"
          ],
          "name": "stdout"
        }
      ]
    },
    {
      "cell_type": "code",
      "metadata": {
        "id": "C1yqlBf1vTZH",
        "colab_type": "code",
        "outputId": "4e8dc874-7067-47ae-a8dc-1ad10cae8399",
        "colab": {
          "base_uri": "https://localhost:8080/",
          "height": 122
        }
      },
      "source": [
        "import json\n",
        "import pandas as pd\n",
        "import numpy as np\n",
        "import matplotlib.pyplot as plt\n",
        "import seaborn as sns\n",
        "import csv\n",
        "import os\n",
        "from textblob import TextBlob\n",
        "import re\n",
        "import nltk\n",
        "nltk.download('vader_lexicon')\n",
        "from nltk.sentiment.vader import SentimentIntensityAnalyzer\n",
        "import zipfile\n",
        "pd.options.mode.chained_assignment = \"warn\""
      ],
      "execution_count": 1,
      "outputs": [
        {
          "output_type": "stream",
          "text": [
            "/usr/local/lib/python3.6/dist-packages/statsmodels/tools/_testing.py:19: FutureWarning: pandas.util.testing is deprecated. Use the functions in the public API at pandas.testing instead.\n",
            "  import pandas.util.testing as tm\n"
          ],
          "name": "stderr"
        },
        {
          "output_type": "stream",
          "text": [
            "[nltk_data] Downloading package vader_lexicon to /root/nltk_data...\n"
          ],
          "name": "stdout"
        },
        {
          "output_type": "stream",
          "text": [
            "/usr/local/lib/python3.6/dist-packages/nltk/twitter/__init__.py:20: UserWarning: The twython library has not been installed. Some functionality from the twitter package will not be available.\n",
            "  warnings.warn(\"The twython library has not been installed. \"\n"
          ],
          "name": "stderr"
        }
      ]
    },
    {
      "cell_type": "markdown",
      "metadata": {
        "id": "4eJpQQIHvq-8",
        "colab_type": "text"
      },
      "source": [
        "Gathering all the tweets collected over a 5 day period."
      ]
    },
    {
      "cell_type": "code",
      "metadata": {
        "id": "4lzERPhYDedX",
        "colab_type": "code",
        "colab": {}
      },
      "source": [
        "#Unziping the downloaded file and placing the images in the tmp folder\n",
        "local_zip = '/content/drive/My Drive/tweets.txt.zip'\n",
        "zip_ref = zipfile.ZipFile(local_zip, 'r')\n",
        "zip_ref.extractall('/content')\n",
        "zip_ref.close()"
      ],
      "execution_count": 0,
      "outputs": []
    },
    {
      "cell_type": "code",
      "metadata": {
        "id": "9EO0B5quZ5Ql",
        "colab_type": "code",
        "colab": {}
      },
      "source": [
        "# String of path to file: tweets_data_path\n",
        "tweets_data_path = [\"/content/tweets.txt\"]\n",
        "\n",
        "# Initialize empty list to store tweets: tweets_data\n",
        "tweets_data = []\n",
        "\n",
        "# Open connection to files with a for loop\n",
        "for data in tweets_data_path:\n",
        "  tweets_file = open(data, \"r\")\n",
        "  # Read in tweets and store in list: tweets_data\n",
        "  for line in tweets_file:\n",
        "      tweet = json.loads(line)\n",
        "      tweets_data.append(tweet)\n",
        "# Close connection to file\n",
        "tweets_file.close()"
      ],
      "execution_count": 0,
      "outputs": []
    },
    {
      "cell_type": "markdown",
      "metadata": {
        "id": "HjxyKk0CPQtT",
        "colab_type": "text"
      },
      "source": [
        "# Creating the Pandas dataframe"
      ]
    },
    {
      "cell_type": "code",
      "metadata": {
        "id": "YyAyX-otyQgj",
        "colab_type": "code",
        "outputId": "09db3f20-be6d-412f-860d-421173f6cd8d",
        "colab": {
          "base_uri": "https://localhost:8080/",
          "height": 459
        }
      },
      "source": [
        "# Creating an empty dictionary to append the tweets\n",
        "dict_ = {'Tweet_id': [], 'User_id':[], 'user': [], 'date': [], 'text': [],\n",
        "         \"followers_count\": [], 'Place':[], 'Language': []\n",
        "         }\n",
        "\n",
        "\n",
        "# For loop to append data into the dictionary        \n",
        "for status in tweets_data:\n",
        "    dict_['Tweet_id'].append(status['id'])\n",
        "    dict_['user'].append(status['user']['screen_name'])\n",
        "    dict_['User_id'].append(status['user']['id_str'])\n",
        "    dict_['date'].append(status['created_at'])\n",
        "    if 'extended_tweet' in status.keys():\n",
        "      dict_['text'].append(status['extended_tweet']['full_text'])\n",
        "    else:\n",
        "      dict_['text'].append(status['text'])\n",
        "    dict_['followers_count'].append(status['user']['followers_count'])\n",
        "    dict_['Place'].append(status['user']['location'])\n",
        "    dict_['Language'].append(status['lang'])\n",
        "\n",
        "# Structure data in a pandas DataFrame for easier manipulation\n",
        "df = pd.DataFrame(dict_)\n",
        "df.head()"
      ],
      "execution_count": 0,
      "outputs": [
        {
          "output_type": "execute_result",
          "data": {
            "text/html": [
              "<div>\n",
              "<style scoped>\n",
              "    .dataframe tbody tr th:only-of-type {\n",
              "        vertical-align: middle;\n",
              "    }\n",
              "\n",
              "    .dataframe tbody tr th {\n",
              "        vertical-align: top;\n",
              "    }\n",
              "\n",
              "    .dataframe thead th {\n",
              "        text-align: right;\n",
              "    }\n",
              "</style>\n",
              "<table border=\"1\" class=\"dataframe\">\n",
              "  <thead>\n",
              "    <tr style=\"text-align: right;\">\n",
              "      <th></th>\n",
              "      <th>Tweet_id</th>\n",
              "      <th>User_id</th>\n",
              "      <th>user</th>\n",
              "      <th>date</th>\n",
              "      <th>text</th>\n",
              "      <th>followers_count</th>\n",
              "      <th>Place</th>\n",
              "      <th>Language</th>\n",
              "    </tr>\n",
              "  </thead>\n",
              "  <tbody>\n",
              "    <tr>\n",
              "      <th>0</th>\n",
              "      <td>1271202831198851074</td>\n",
              "      <td>1220729068858961920</td>\n",
              "      <td>IndependentThat</td>\n",
              "      <td>Thu Jun 11 22:09:07 +0000 2020</td>\n",
              "      <td>@IAMChrisEdward Trump definitely knows how to ...</td>\n",
              "      <td>14</td>\n",
              "      <td>Seattle, WA</td>\n",
              "      <td>en</td>\n",
              "    </tr>\n",
              "    <tr>\n",
              "      <th>1</th>\n",
              "      <td>1271202830704132097</td>\n",
              "      <td>22781602</td>\n",
              "      <td>s1eddog</td>\n",
              "      <td>Thu Jun 11 22:09:07 +0000 2020</td>\n",
              "      <td>Here’s a screenshot from the Tulsa rally signu...</td>\n",
              "      <td>16</td>\n",
              "      <td>Madison, WI</td>\n",
              "      <td>en</td>\n",
              "    </tr>\n",
              "    <tr>\n",
              "      <th>2</th>\n",
              "      <td>1271202831752560640</td>\n",
              "      <td>21535453</td>\n",
              "      <td>jssacramento</td>\n",
              "      <td>Thu Jun 11 22:09:07 +0000 2020</td>\n",
              "      <td>@Tee2019K @WeStand4theFlag @classybass3 @Whale...</td>\n",
              "      <td>3890</td>\n",
              "      <td>None</td>\n",
              "      <td>tl</td>\n",
              "    </tr>\n",
              "    <tr>\n",
              "      <th>3</th>\n",
              "      <td>1271202833006821381</td>\n",
              "      <td>1261094227464904704</td>\n",
              "      <td>painterjoe24</td>\n",
              "      <td>Thu Jun 11 22:09:07 +0000 2020</td>\n",
              "      <td>@oliviawilde Ivanka for president... If this w...</td>\n",
              "      <td>3</td>\n",
              "      <td>None</td>\n",
              "      <td>en</td>\n",
              "    </tr>\n",
              "    <tr>\n",
              "      <th>4</th>\n",
              "      <td>1271202833120014343</td>\n",
              "      <td>1478689148</td>\n",
              "      <td>RickPetree</td>\n",
              "      <td>Thu Jun 11 22:09:07 +0000 2020</td>\n",
              "      <td>@cincity631 @iosolofede @NastyOldWomyn @delacr...</td>\n",
              "      <td>17085</td>\n",
              "      <td>New York City</td>\n",
              "      <td>en</td>\n",
              "    </tr>\n",
              "  </tbody>\n",
              "</table>\n",
              "</div>"
            ],
            "text/plain": [
              "              Tweet_id              User_id  ...          Place Language\n",
              "0  1271202831198851074  1220729068858961920  ...    Seattle, WA       en\n",
              "1  1271202830704132097             22781602  ...    Madison, WI       en\n",
              "2  1271202831752560640             21535453  ...           None       tl\n",
              "3  1271202833006821381  1261094227464904704  ...           None       en\n",
              "4  1271202833120014343           1478689148  ...  New York City       en\n",
              "\n",
              "[5 rows x 8 columns]"
            ]
          },
          "metadata": {
            "tags": []
          },
          "execution_count": 5
        }
      ]
    },
    {
      "cell_type": "code",
      "metadata": {
        "id": "swx-_k-o0fIZ",
        "colab_type": "code",
        "outputId": "cc4cefb5-28bc-46c3-eaa5-3c1eaa2636ee",
        "colab": {
          "base_uri": "https://localhost:8080/",
          "height": 34
        }
      },
      "source": [
        "#Checking the number of tweets. \n",
        "len(df)"
      ],
      "execution_count": 0,
      "outputs": [
        {
          "output_type": "execute_result",
          "data": {
            "text/plain": [
              "68426"
            ]
          },
          "metadata": {
            "tags": []
          },
          "execution_count": 6
        }
      ]
    },
    {
      "cell_type": "markdown",
      "metadata": {
        "id": "J0Ccef75P0u7",
        "colab_type": "text"
      },
      "source": [
        "# Data cleaning Pipeline"
      ]
    },
    {
      "cell_type": "markdown",
      "metadata": {
        "id": "qVtl2ekELKtp",
        "colab_type": "text"
      },
      "source": [
        "Defining a reading function to identify specific words in fields in the tweets data"
      ]
    },
    {
      "cell_type": "code",
      "metadata": {
        "id": "RclXakmGLJra",
        "colab_type": "code",
        "colab": {}
      },
      "source": [
        "#Function that performs a read of a field and finds a word. It returns a Boolean\n",
        "def word_in_text(word, text):\n",
        "    word = word.lower()\n",
        "    text = text.lower()\n",
        "    match = re.search(word, text)\n",
        "\n",
        "    if match:\n",
        "        return True\n",
        "    return False\n",
        "\n",
        "#Defining a function that matches the exact word.\n",
        "def find_word(text, search):\n",
        "   result = re.findall('\\\\b'+search+'\\\\b', text, flags=re.IGNORECASE)\n",
        "   if len(result)>0:\n",
        "      return True\n",
        "   else:\n",
        "      return False"
      ],
      "execution_count": 0,
      "outputs": []
    },
    {
      "cell_type": "markdown",
      "metadata": {
        "id": "ifMZfzKZLT9H",
        "colab_type": "text"
      },
      "source": [
        "Performing cleaning of data"
      ]
    },
    {
      "cell_type": "code",
      "metadata": {
        "id": "A22lf-TCP6V6",
        "colab_type": "code",
        "outputId": "0ac30ecc-bdeb-4e66-f483-29016be52f4c",
        "colab": {
          "base_uri": "https://localhost:8080/",
          "height": 1000
        }
      },
      "source": [
        "#Removing duplicates (tweets with the same id)\n",
        "df = df.drop_duplicates(subset = \"Tweet_id\", ignore_index = True)\n",
        "\n",
        "#Removing tweets that are not in english:\n",
        "df = df[df['Language'] == 'en']\n",
        "\n",
        "#Localising tweets that contain the word Trump\n",
        "#Initializing columns with 0 values\n",
        "df['Trump'] = 0\n",
        "df['Biden'] = 0\n",
        "df['Both']= 0\n",
        "\n",
        "#Creating column Trump if trump is mentioned in tweet\n",
        "for (index,row) in df.iterrows():\n",
        "  if  str(word_in_text('Trump', df['text'][index])) == 'True':\n",
        "    df['Trump'][index] = 'Trump'\n",
        "  else:\n",
        "    df['Trump'][index] = False\n",
        "\n",
        "#Creating column Biden if Biden is mentioned in tweet\n",
        "for (index,row) in df.iterrows():\n",
        "  if  str(word_in_text('Biden', df['text'][index])) == 'True':\n",
        "    df['Biden'][index] = 'Biden'\n",
        "  else:\n",
        "    df['Biden'][index] = False\n",
        "\n",
        "\n",
        "#Creating column Trump and Biden if Biden is mentioned in tweet\n",
        "for (index,row) in df.iterrows():\n",
        "  if  str(word_in_text('Biden', df['text'][index])) == 'True':\n",
        "    if  str(word_in_text('Trump', df['text'][index])) == 'True':\n",
        "      df['Both'][index] = 'Trump and Biden'\n",
        "    else:\n",
        "      df['Both'][index] = False\n",
        "\n",
        "#Digging deeper to find the real mention in the tweet\n",
        "for (index,row) in df.iterrows():\n",
        "  if df['Both'][index] == 'Trump and Biden':\n",
        "    if  str(find_word(str(row.loc['text']), 'Biden')) == 'True' and str(find_word(str(row.loc['text']), 'Trump')) == 'True':\n",
        "      df['Both'][index] = 'Trump and Biden'\n",
        "    elif  str(find_word(str(row.loc['text']), 'Biden')) == 'False' and str(find_word(str(row.loc['text']), 'Trump')) == 'True':\n",
        "      df['Both'][index] = 'Trump'\n",
        "    elif  str(find_word(str(row.loc['text']), 'Biden')) == 'True' and str(find_word(str(row.loc['text']), 'Trump')) == 'False':\n",
        "      df['Both'][index] = 'Biden'\n",
        "\n",
        "#Creating an integrated column\n",
        "df['Mention'] = 0\n",
        "\n",
        "for (index,row) in df.iterrows():\n",
        "  if  df['Both'][index] == 'Trump and Biden':\n",
        "    df['Mention'][index] = 'Trump and Biden'\n",
        "  elif df['Both'][index] == 'Trump':\n",
        "    df['Mention'][index] = 'Trump'\n",
        "  elif df['Both'][index] == 'Biden':\n",
        "    df['Mention'][index] = 'Biden'    \n",
        "  elif df['Trump'][index] == 'Trump':\n",
        "    df['Mention'][index] = 'Trump'\n",
        "  elif df['Biden'][index] == 'Biden':\n",
        "    df['Mention'][index] = 'Biden'\n",
        "  else:\n",
        "    df['Mention'][index] = 'No mention'\n",
        "\n",
        "#Droping the created columns leaving just mention of trump or biden.\n",
        "df = df.drop(['Trump','Biden','Both'], axis = 1)\n",
        "df = df[df['Mention'] != 'No mention']\n",
        "\n",
        "\n",
        "#Assigning United States to places where location is unknown, with the assumption of\n",
        "#People talking about Trump in English right now has a high likelihood of being an american.\n",
        "#Creating column location with cities and states dataset\n",
        "\n",
        "df[\"Place\"] = df[\"Place\"].fillna('United States')\n",
        "\n",
        "#Filtering out places not in the U.S:\n",
        "#Bringing a list of all states and cities in the US, in a CSV file\n",
        "usa = pd.read_csv('us.csv', index_col= False)\n",
        "\n",
        "#storing locations in a list format\n",
        "usa_locations = list(usa['Location'])\n",
        "\n",
        "df['Location'] = 0\n",
        "#Creating column Location to append locations similarity to dataset\n",
        "for (index,row) in df.iterrows():\n",
        "  for location in usa_locations:\n",
        "    if  str(find_word(str(row.loc['Place']), location)) == 'True':\n",
        "      df['Location'][index] = location\n",
        "      break\n",
        "    else:\n",
        "      df['Location'][index] = \"Na\"\n",
        "\n",
        "#Dropping places that not correspond to a state in the US\n",
        "df = df[df['Location'] !='Na']\n",
        "\n",
        "#Converting the locations to States\n",
        "states = pd.DataFrame(pd.read_csv('states.csv', index_col= False))\n",
        "states =  dict(zip(states.Location, states.State))\n",
        "\n",
        "df['State'] = 0\n",
        "\n",
        "for (index,row) in df.iterrows():\n",
        "  for k,v in states.items():\n",
        "    if  str(find_word(row.loc['Location'], k)) == 'True':\n",
        "      df['State'][index] = v\n",
        "      break\n",
        "    else:\n",
        "      df['State'][index] = \"Na\"\n",
        "\n",
        "#Droping columns that are not needed.\n",
        "df = df.drop(['Location'], axis =1)\n",
        "df = df.reset_index()\n",
        "df = df.drop(['index'], axis = 1)\n",
        "\n",
        "df.head()"
      ],
      "execution_count": 0,
      "outputs": [
        {
          "output_type": "stream",
          "text": [
            "/usr/local/lib/python3.6/dist-packages/ipykernel_launcher.py:16: SettingWithCopyWarning: \n",
            "A value is trying to be set on a copy of a slice from a DataFrame\n",
            "\n",
            "See the caveats in the documentation: https://pandas.pydata.org/pandas-docs/stable/user_guide/indexing.html#returning-a-view-versus-a-copy\n",
            "  app.launch_new_instance()\n",
            "/usr/local/lib/python3.6/dist-packages/pandas/core/indexing.py:671: SettingWithCopyWarning: \n",
            "A value is trying to be set on a copy of a slice from a DataFrame\n",
            "\n",
            "See the caveats in the documentation: https://pandas.pydata.org/pandas-docs/stable/user_guide/indexing.html#returning-a-view-versus-a-copy\n",
            "  self._setitem_with_indexer(indexer, value)\n",
            "/usr/local/lib/python3.6/dist-packages/ipykernel_launcher.py:18: SettingWithCopyWarning: \n",
            "A value is trying to be set on a copy of a slice from a DataFrame\n",
            "\n",
            "See the caveats in the documentation: https://pandas.pydata.org/pandas-docs/stable/user_guide/indexing.html#returning-a-view-versus-a-copy\n",
            "/usr/local/lib/python3.6/dist-packages/ipykernel_launcher.py:25: SettingWithCopyWarning: \n",
            "A value is trying to be set on a copy of a slice from a DataFrame\n",
            "\n",
            "See the caveats in the documentation: https://pandas.pydata.org/pandas-docs/stable/user_guide/indexing.html#returning-a-view-versus-a-copy\n",
            "/usr/local/lib/python3.6/dist-packages/ipykernel_launcher.py:23: SettingWithCopyWarning: \n",
            "A value is trying to be set on a copy of a slice from a DataFrame\n",
            "\n",
            "See the caveats in the documentation: https://pandas.pydata.org/pandas-docs/stable/user_guide/indexing.html#returning-a-view-versus-a-copy\n",
            "/usr/local/lib/python3.6/dist-packages/ipykernel_launcher.py:34: SettingWithCopyWarning: \n",
            "A value is trying to be set on a copy of a slice from a DataFrame\n",
            "\n",
            "See the caveats in the documentation: https://pandas.pydata.org/pandas-docs/stable/user_guide/indexing.html#returning-a-view-versus-a-copy\n",
            "/usr/local/lib/python3.6/dist-packages/ipykernel_launcher.py:32: SettingWithCopyWarning: \n",
            "A value is trying to be set on a copy of a slice from a DataFrame\n",
            "\n",
            "See the caveats in the documentation: https://pandas.pydata.org/pandas-docs/stable/user_guide/indexing.html#returning-a-view-versus-a-copy\n",
            "/usr/local/lib/python3.6/dist-packages/ipykernel_launcher.py:42: SettingWithCopyWarning: \n",
            "A value is trying to be set on a copy of a slice from a DataFrame\n",
            "\n",
            "See the caveats in the documentation: https://pandas.pydata.org/pandas-docs/stable/user_guide/indexing.html#returning-a-view-versus-a-copy\n",
            "/usr/local/lib/python3.6/dist-packages/ipykernel_launcher.py:44: SettingWithCopyWarning: \n",
            "A value is trying to be set on a copy of a slice from a DataFrame\n",
            "\n",
            "See the caveats in the documentation: https://pandas.pydata.org/pandas-docs/stable/user_guide/indexing.html#returning-a-view-versus-a-copy\n",
            "/usr/local/lib/python3.6/dist-packages/ipykernel_launcher.py:40: SettingWithCopyWarning: \n",
            "A value is trying to be set on a copy of a slice from a DataFrame\n",
            "\n",
            "See the caveats in the documentation: https://pandas.pydata.org/pandas-docs/stable/user_guide/indexing.html#returning-a-view-versus-a-copy\n",
            "/usr/local/lib/python3.6/dist-packages/ipykernel_launcher.py:57: SettingWithCopyWarning: \n",
            "A value is trying to be set on a copy of a slice from a DataFrame\n",
            "\n",
            "See the caveats in the documentation: https://pandas.pydata.org/pandas-docs/stable/user_guide/indexing.html#returning-a-view-versus-a-copy\n",
            "/usr/local/lib/python3.6/dist-packages/ipykernel_launcher.py:59: SettingWithCopyWarning: \n",
            "A value is trying to be set on a copy of a slice from a DataFrame\n",
            "\n",
            "See the caveats in the documentation: https://pandas.pydata.org/pandas-docs/stable/user_guide/indexing.html#returning-a-view-versus-a-copy\n",
            "/usr/local/lib/python3.6/dist-packages/ipykernel_launcher.py:61: SettingWithCopyWarning: \n",
            "A value is trying to be set on a copy of a slice from a DataFrame\n",
            "\n",
            "See the caveats in the documentation: https://pandas.pydata.org/pandas-docs/stable/user_guide/indexing.html#returning-a-view-versus-a-copy\n",
            "/usr/local/lib/python3.6/dist-packages/ipykernel_launcher.py:53: SettingWithCopyWarning: \n",
            "A value is trying to be set on a copy of a slice from a DataFrame\n",
            "\n",
            "See the caveats in the documentation: https://pandas.pydata.org/pandas-docs/stable/user_guide/indexing.html#returning-a-view-versus-a-copy\n",
            "/usr/local/lib/python3.6/dist-packages/ipykernel_launcher.py:55: SettingWithCopyWarning: \n",
            "A value is trying to be set on a copy of a slice from a DataFrame\n",
            "\n",
            "See the caveats in the documentation: https://pandas.pydata.org/pandas-docs/stable/user_guide/indexing.html#returning-a-view-versus-a-copy\n",
            "/usr/local/lib/python3.6/dist-packages/ipykernel_launcher.py:51: SettingWithCopyWarning: \n",
            "A value is trying to be set on a copy of a slice from a DataFrame\n",
            "\n",
            "See the caveats in the documentation: https://pandas.pydata.org/pandas-docs/stable/user_guide/indexing.html#returning-a-view-versus-a-copy\n",
            "/usr/local/lib/python3.6/dist-packages/ipykernel_launcher.py:89: SettingWithCopyWarning: \n",
            "A value is trying to be set on a copy of a slice from a DataFrame\n",
            "\n",
            "See the caveats in the documentation: https://pandas.pydata.org/pandas-docs/stable/user_guide/indexing.html#returning-a-view-versus-a-copy\n",
            "/usr/local/lib/python3.6/dist-packages/ipykernel_launcher.py:86: SettingWithCopyWarning: \n",
            "A value is trying to be set on a copy of a slice from a DataFrame\n",
            "\n",
            "See the caveats in the documentation: https://pandas.pydata.org/pandas-docs/stable/user_guide/indexing.html#returning-a-view-versus-a-copy\n",
            "/usr/local/lib/python3.6/dist-packages/ipykernel_launcher.py:106: SettingWithCopyWarning: \n",
            "A value is trying to be set on a copy of a slice from a DataFrame\n",
            "\n",
            "See the caveats in the documentation: https://pandas.pydata.org/pandas-docs/stable/user_guide/indexing.html#returning-a-view-versus-a-copy\n",
            "/usr/local/lib/python3.6/dist-packages/ipykernel_launcher.py:103: SettingWithCopyWarning: \n",
            "A value is trying to be set on a copy of a slice from a DataFrame\n",
            "\n",
            "See the caveats in the documentation: https://pandas.pydata.org/pandas-docs/stable/user_guide/indexing.html#returning-a-view-versus-a-copy\n"
          ],
          "name": "stderr"
        },
        {
          "output_type": "execute_result",
          "data": {
            "text/html": [
              "<div>\n",
              "<style scoped>\n",
              "    .dataframe tbody tr th:only-of-type {\n",
              "        vertical-align: middle;\n",
              "    }\n",
              "\n",
              "    .dataframe tbody tr th {\n",
              "        vertical-align: top;\n",
              "    }\n",
              "\n",
              "    .dataframe thead th {\n",
              "        text-align: right;\n",
              "    }\n",
              "</style>\n",
              "<table border=\"1\" class=\"dataframe\">\n",
              "  <thead>\n",
              "    <tr style=\"text-align: right;\">\n",
              "      <th></th>\n",
              "      <th>Tweet_id</th>\n",
              "      <th>User_id</th>\n",
              "      <th>user</th>\n",
              "      <th>date</th>\n",
              "      <th>text</th>\n",
              "      <th>followers_count</th>\n",
              "      <th>Place</th>\n",
              "      <th>Language</th>\n",
              "      <th>Mention</th>\n",
              "      <th>State</th>\n",
              "    </tr>\n",
              "  </thead>\n",
              "  <tbody>\n",
              "    <tr>\n",
              "      <th>0</th>\n",
              "      <td>1271202831198851074</td>\n",
              "      <td>1220729068858961920</td>\n",
              "      <td>IndependentThat</td>\n",
              "      <td>Thu Jun 11 22:09:07 +0000 2020</td>\n",
              "      <td>@IAMChrisEdward Trump definitely knows how to ...</td>\n",
              "      <td>14</td>\n",
              "      <td>Seattle, WA</td>\n",
              "      <td>en</td>\n",
              "      <td>Trump</td>\n",
              "      <td>Washington</td>\n",
              "    </tr>\n",
              "    <tr>\n",
              "      <th>1</th>\n",
              "      <td>1271202830704132097</td>\n",
              "      <td>22781602</td>\n",
              "      <td>s1eddog</td>\n",
              "      <td>Thu Jun 11 22:09:07 +0000 2020</td>\n",
              "      <td>Here’s a screenshot from the Tulsa rally signu...</td>\n",
              "      <td>16</td>\n",
              "      <td>Madison, WI</td>\n",
              "      <td>en</td>\n",
              "      <td>Trump</td>\n",
              "      <td>Wisconsin</td>\n",
              "    </tr>\n",
              "    <tr>\n",
              "      <th>2</th>\n",
              "      <td>1271202833006821381</td>\n",
              "      <td>1261094227464904704</td>\n",
              "      <td>painterjoe24</td>\n",
              "      <td>Thu Jun 11 22:09:07 +0000 2020</td>\n",
              "      <td>@oliviawilde Ivanka for president... If this w...</td>\n",
              "      <td>3</td>\n",
              "      <td>United States</td>\n",
              "      <td>en</td>\n",
              "      <td>Trump</td>\n",
              "      <td>United States</td>\n",
              "    </tr>\n",
              "    <tr>\n",
              "      <th>3</th>\n",
              "      <td>1271202833120014343</td>\n",
              "      <td>1478689148</td>\n",
              "      <td>RickPetree</td>\n",
              "      <td>Thu Jun 11 22:09:07 +0000 2020</td>\n",
              "      <td>@cincity631 @iosolofede @NastyOldWomyn @delacr...</td>\n",
              "      <td>17085</td>\n",
              "      <td>New York City</td>\n",
              "      <td>en</td>\n",
              "      <td>Trump</td>\n",
              "      <td>New York</td>\n",
              "    </tr>\n",
              "    <tr>\n",
              "      <th>4</th>\n",
              "      <td>1271202833724030982</td>\n",
              "      <td>2862562517</td>\n",
              "      <td>johnkrol60</td>\n",
              "      <td>Thu Jun 11 22:09:08 +0000 2020</td>\n",
              "      <td>@CNN well nobody cared about that when they we...</td>\n",
              "      <td>5</td>\n",
              "      <td>United States</td>\n",
              "      <td>en</td>\n",
              "      <td>Trump</td>\n",
              "      <td>United States</td>\n",
              "    </tr>\n",
              "  </tbody>\n",
              "</table>\n",
              "</div>"
            ],
            "text/plain": [
              "              Tweet_id              User_id  ... Mention          State\n",
              "0  1271202831198851074  1220729068858961920  ...   Trump     Washington\n",
              "1  1271202830704132097             22781602  ...   Trump      Wisconsin\n",
              "2  1271202833006821381  1261094227464904704  ...   Trump  United States\n",
              "3  1271202833120014343           1478689148  ...   Trump       New York\n",
              "4  1271202833724030982           2862562517  ...   Trump  United States\n",
              "\n",
              "[5 rows x 10 columns]"
            ]
          },
          "metadata": {
            "tags": []
          },
          "execution_count": 8
        }
      ]
    },
    {
      "cell_type": "code",
      "metadata": {
        "id": "-W6X_C0R8CIH",
        "colab_type": "code",
        "outputId": "ba6b245c-f1b9-485e-98e9-4a707d0ab159",
        "colab": {
          "base_uri": "https://localhost:8080/",
          "height": 34
        }
      },
      "source": [
        "#Checking the number of tweets. \n",
        "len(df)"
      ],
      "execution_count": 0,
      "outputs": [
        {
          "output_type": "execute_result",
          "data": {
            "text/plain": [
              "47549"
            ]
          },
          "metadata": {
            "tags": []
          },
          "execution_count": 9
        }
      ]
    },
    {
      "cell_type": "markdown",
      "metadata": {
        "id": "gcbNcE5YtTmX",
        "colab_type": "text"
      },
      "source": [
        "#Sentiment Analysis"
      ]
    },
    {
      "cell_type": "markdown",
      "metadata": {
        "id": "LuE4YArHIQd_",
        "colab_type": "text"
      },
      "source": [
        "## TextBlob"
      ]
    },
    {
      "cell_type": "code",
      "metadata": {
        "id": "x8LFNB9KtW5U",
        "colab_type": "code",
        "outputId": "7678c98d-97ea-49bb-dd9b-1a10aa227082",
        "colab": {
          "base_uri": "https://localhost:8080/",
          "height": 734
        }
      },
      "source": [
        "df['polarity'] = 0\n",
        "df['subjectivity'] = 0\n",
        "df[\"polarity\"] = pd.to_numeric(df[\"polarity\"], downcast=\"float\")\n",
        "df[\"subjectivity\"] = pd.to_numeric(df[\"subjectivity\"], downcast=\"float\")\n",
        "\n",
        "for index, row in df.iterrows():\n",
        "  polarity, subjectivity = TextBlob(df['text'][index]).sentiment\n",
        "  df['polarity'][index] = polarity\n",
        "  df['subjectivity'][index] = subjectivity\n",
        "\n",
        "df.head()"
      ],
      "execution_count": 0,
      "outputs": [
        {
          "output_type": "stream",
          "text": [
            "/usr/local/lib/python3.6/dist-packages/ipykernel_launcher.py:8: SettingWithCopyWarning: \n",
            "A value is trying to be set on a copy of a slice from a DataFrame\n",
            "\n",
            "See the caveats in the documentation: https://pandas.pydata.org/pandas-docs/stable/user_guide/indexing.html#returning-a-view-versus-a-copy\n",
            "  \n",
            "/usr/local/lib/python3.6/dist-packages/ipykernel_launcher.py:9: SettingWithCopyWarning: \n",
            "A value is trying to be set on a copy of a slice from a DataFrame\n",
            "\n",
            "See the caveats in the documentation: https://pandas.pydata.org/pandas-docs/stable/user_guide/indexing.html#returning-a-view-versus-a-copy\n",
            "  if __name__ == '__main__':\n"
          ],
          "name": "stderr"
        },
        {
          "output_type": "execute_result",
          "data": {
            "text/html": [
              "<div>\n",
              "<style scoped>\n",
              "    .dataframe tbody tr th:only-of-type {\n",
              "        vertical-align: middle;\n",
              "    }\n",
              "\n",
              "    .dataframe tbody tr th {\n",
              "        vertical-align: top;\n",
              "    }\n",
              "\n",
              "    .dataframe thead th {\n",
              "        text-align: right;\n",
              "    }\n",
              "</style>\n",
              "<table border=\"1\" class=\"dataframe\">\n",
              "  <thead>\n",
              "    <tr style=\"text-align: right;\">\n",
              "      <th></th>\n",
              "      <th>Tweet_id</th>\n",
              "      <th>User_id</th>\n",
              "      <th>user</th>\n",
              "      <th>date</th>\n",
              "      <th>text</th>\n",
              "      <th>followers_count</th>\n",
              "      <th>Place</th>\n",
              "      <th>Language</th>\n",
              "      <th>Mention</th>\n",
              "      <th>State</th>\n",
              "      <th>polarity</th>\n",
              "      <th>subjectivity</th>\n",
              "    </tr>\n",
              "  </thead>\n",
              "  <tbody>\n",
              "    <tr>\n",
              "      <th>0</th>\n",
              "      <td>1271202831198851074</td>\n",
              "      <td>1220729068858961920</td>\n",
              "      <td>IndependentThat</td>\n",
              "      <td>Thu Jun 11 22:09:07 +0000 2020</td>\n",
              "      <td>@IAMChrisEdward Trump definitely knows how to ...</td>\n",
              "      <td>14</td>\n",
              "      <td>Seattle, WA</td>\n",
              "      <td>en</td>\n",
              "      <td>Trump</td>\n",
              "      <td>Washington</td>\n",
              "      <td>-0.050000</td>\n",
              "      <td>0.531250</td>\n",
              "    </tr>\n",
              "    <tr>\n",
              "      <th>1</th>\n",
              "      <td>1271202830704132097</td>\n",
              "      <td>22781602</td>\n",
              "      <td>s1eddog</td>\n",
              "      <td>Thu Jun 11 22:09:07 +0000 2020</td>\n",
              "      <td>Here’s a screenshot from the Tulsa rally signu...</td>\n",
              "      <td>16</td>\n",
              "      <td>Madison, WI</td>\n",
              "      <td>en</td>\n",
              "      <td>Trump</td>\n",
              "      <td>Wisconsin</td>\n",
              "      <td>0.600000</td>\n",
              "      <td>1.000000</td>\n",
              "    </tr>\n",
              "    <tr>\n",
              "      <th>2</th>\n",
              "      <td>1271202833006821381</td>\n",
              "      <td>1261094227464904704</td>\n",
              "      <td>painterjoe24</td>\n",
              "      <td>Thu Jun 11 22:09:07 +0000 2020</td>\n",
              "      <td>@oliviawilde Ivanka for president... If this w...</td>\n",
              "      <td>3</td>\n",
              "      <td>United States</td>\n",
              "      <td>en</td>\n",
              "      <td>Trump</td>\n",
              "      <td>United States</td>\n",
              "      <td>-0.218750</td>\n",
              "      <td>0.575000</td>\n",
              "    </tr>\n",
              "    <tr>\n",
              "      <th>3</th>\n",
              "      <td>1271202833120014343</td>\n",
              "      <td>1478689148</td>\n",
              "      <td>RickPetree</td>\n",
              "      <td>Thu Jun 11 22:09:07 +0000 2020</td>\n",
              "      <td>@cincity631 @iosolofede @NastyOldWomyn @delacr...</td>\n",
              "      <td>17085</td>\n",
              "      <td>New York City</td>\n",
              "      <td>en</td>\n",
              "      <td>Trump</td>\n",
              "      <td>New York</td>\n",
              "      <td>0.008333</td>\n",
              "      <td>0.375641</td>\n",
              "    </tr>\n",
              "    <tr>\n",
              "      <th>4</th>\n",
              "      <td>1271202833724030982</td>\n",
              "      <td>2862562517</td>\n",
              "      <td>johnkrol60</td>\n",
              "      <td>Thu Jun 11 22:09:08 +0000 2020</td>\n",
              "      <td>@CNN well nobody cared about that when they we...</td>\n",
              "      <td>5</td>\n",
              "      <td>United States</td>\n",
              "      <td>en</td>\n",
              "      <td>Trump</td>\n",
              "      <td>United States</td>\n",
              "      <td>0.000000</td>\n",
              "      <td>0.000000</td>\n",
              "    </tr>\n",
              "  </tbody>\n",
              "</table>\n",
              "</div>"
            ],
            "text/plain": [
              "              Tweet_id              User_id  ...  polarity subjectivity\n",
              "0  1271202831198851074  1220729068858961920  ... -0.050000     0.531250\n",
              "1  1271202830704132097             22781602  ...  0.600000     1.000000\n",
              "2  1271202833006821381  1261094227464904704  ... -0.218750     0.575000\n",
              "3  1271202833120014343           1478689148  ...  0.008333     0.375641\n",
              "4  1271202833724030982           2862562517  ...  0.000000     0.000000\n",
              "\n",
              "[5 rows x 12 columns]"
            ]
          },
          "metadata": {
            "tags": []
          },
          "execution_count": 10
        }
      ]
    },
    {
      "cell_type": "markdown",
      "metadata": {
        "id": "h-UVfRhrGWdH",
        "colab_type": "text"
      },
      "source": [
        "## NLTK Vader Sentiment"
      ]
    },
    {
      "cell_type": "code",
      "metadata": {
        "id": "MdNPMBOcUxqI",
        "colab_type": "code",
        "outputId": "9da30f87-290e-4c32-cacd-93c051c1e246",
        "colab": {
          "base_uri": "https://localhost:8080/",
          "height": 411
        }
      },
      "source": [
        "#Initializing the NLTK sentiment analysis\n",
        "sid = SentimentIntensityAnalyzer()\n",
        "\n",
        "df['Compound'] = 0.0\n",
        "\n",
        "for index, row in df.iterrows():\n",
        "  compound = sid.polarity_scores(df['text'][index])['compound']\n",
        "  df['Compound'][index] = compound\n",
        "\n",
        "\n",
        "#Averaging the scores of both NLP analyses\n",
        "df['Sentiment Score'] = (df['Compound']+df['polarity'])/2\n",
        "\n",
        "\n",
        "df['Sentiment'] = 0\n",
        "\n",
        "for index, row in df.iterrows():\n",
        "  # decide sentiment as positive, negative and neutral \n",
        "  if df['Sentiment Score'][index] >= 0.05 :\n",
        "    df['Sentiment'][index] = 'Positive' \n",
        "  elif df['Sentiment Score'][index] <= - 0.05 :\n",
        "    df['Sentiment'][index] = 'Negative' \n",
        "  else :\n",
        "    df['Sentiment'][index] = 'Neutral'\n"
      ],
      "execution_count": 0,
      "outputs": [
        {
          "output_type": "stream",
          "text": [
            "/usr/local/lib/python3.6/dist-packages/ipykernel_launcher.py:8: SettingWithCopyWarning: \n",
            "A value is trying to be set on a copy of a slice from a DataFrame\n",
            "\n",
            "See the caveats in the documentation: https://pandas.pydata.org/pandas-docs/stable/user_guide/indexing.html#returning-a-view-versus-a-copy\n",
            "  \n",
            "/usr/local/lib/python3.6/dist-packages/ipykernel_launcher.py:22: SettingWithCopyWarning: \n",
            "A value is trying to be set on a copy of a slice from a DataFrame\n",
            "\n",
            "See the caveats in the documentation: https://pandas.pydata.org/pandas-docs/stable/user_guide/indexing.html#returning-a-view-versus-a-copy\n",
            "/usr/local/lib/python3.6/dist-packages/pandas/core/indexing.py:671: SettingWithCopyWarning: \n",
            "A value is trying to be set on a copy of a slice from a DataFrame\n",
            "\n",
            "See the caveats in the documentation: https://pandas.pydata.org/pandas-docs/stable/user_guide/indexing.html#returning-a-view-versus-a-copy\n",
            "  self._setitem_with_indexer(indexer, value)\n",
            "/usr/local/lib/python3.6/dist-packages/ipykernel_launcher.py:20: SettingWithCopyWarning: \n",
            "A value is trying to be set on a copy of a slice from a DataFrame\n",
            "\n",
            "See the caveats in the documentation: https://pandas.pydata.org/pandas-docs/stable/user_guide/indexing.html#returning-a-view-versus-a-copy\n",
            "/usr/local/lib/python3.6/dist-packages/ipykernel_launcher.py:24: SettingWithCopyWarning: \n",
            "A value is trying to be set on a copy of a slice from a DataFrame\n",
            "\n",
            "See the caveats in the documentation: https://pandas.pydata.org/pandas-docs/stable/user_guide/indexing.html#returning-a-view-versus-a-copy\n"
          ],
          "name": "stderr"
        }
      ]
    },
    {
      "cell_type": "code",
      "metadata": {
        "id": "ZkanSWB_H35q",
        "colab_type": "code",
        "outputId": "01367e70-8416-4f0b-9ba2-399c57d2f328",
        "colab": {
          "base_uri": "https://localhost:8080/",
          "height": 1000
        }
      },
      "source": [
        "df"
      ],
      "execution_count": 0,
      "outputs": [
        {
          "output_type": "execute_result",
          "data": {
            "text/html": [
              "<div>\n",
              "<style scoped>\n",
              "    .dataframe tbody tr th:only-of-type {\n",
              "        vertical-align: middle;\n",
              "    }\n",
              "\n",
              "    .dataframe tbody tr th {\n",
              "        vertical-align: top;\n",
              "    }\n",
              "\n",
              "    .dataframe thead th {\n",
              "        text-align: right;\n",
              "    }\n",
              "</style>\n",
              "<table border=\"1\" class=\"dataframe\">\n",
              "  <thead>\n",
              "    <tr style=\"text-align: right;\">\n",
              "      <th></th>\n",
              "      <th>Tweet_id</th>\n",
              "      <th>User_id</th>\n",
              "      <th>user</th>\n",
              "      <th>date</th>\n",
              "      <th>text</th>\n",
              "      <th>followers_count</th>\n",
              "      <th>Place</th>\n",
              "      <th>Language</th>\n",
              "      <th>Mention</th>\n",
              "      <th>State</th>\n",
              "      <th>polarity</th>\n",
              "      <th>subjectivity</th>\n",
              "      <th>Compound</th>\n",
              "      <th>Sentiment Score</th>\n",
              "      <th>Sentiment</th>\n",
              "    </tr>\n",
              "  </thead>\n",
              "  <tbody>\n",
              "    <tr>\n",
              "      <th>0</th>\n",
              "      <td>1271202831198851074</td>\n",
              "      <td>1220729068858961920</td>\n",
              "      <td>IndependentThat</td>\n",
              "      <td>Thu Jun 11 22:09:07 +0000 2020</td>\n",
              "      <td>@IAMChrisEdward Trump definitely knows how to ...</td>\n",
              "      <td>14</td>\n",
              "      <td>Seattle, WA</td>\n",
              "      <td>en</td>\n",
              "      <td>Trump</td>\n",
              "      <td>Washington</td>\n",
              "      <td>-0.050000</td>\n",
              "      <td>0.531250</td>\n",
              "      <td>-0.6360</td>\n",
              "      <td>-0.343000</td>\n",
              "      <td>Negative</td>\n",
              "    </tr>\n",
              "    <tr>\n",
              "      <th>1</th>\n",
              "      <td>1271202830704132097</td>\n",
              "      <td>22781602</td>\n",
              "      <td>s1eddog</td>\n",
              "      <td>Thu Jun 11 22:09:07 +0000 2020</td>\n",
              "      <td>Here’s a screenshot from the Tulsa rally signu...</td>\n",
              "      <td>16</td>\n",
              "      <td>Madison, WI</td>\n",
              "      <td>en</td>\n",
              "      <td>Trump</td>\n",
              "      <td>Wisconsin</td>\n",
              "      <td>0.600000</td>\n",
              "      <td>1.000000</td>\n",
              "      <td>-0.2732</td>\n",
              "      <td>0.163400</td>\n",
              "      <td>Positive</td>\n",
              "    </tr>\n",
              "    <tr>\n",
              "      <th>2</th>\n",
              "      <td>1271202833006821381</td>\n",
              "      <td>1261094227464904704</td>\n",
              "      <td>painterjoe24</td>\n",
              "      <td>Thu Jun 11 22:09:07 +0000 2020</td>\n",
              "      <td>@oliviawilde Ivanka for president... If this w...</td>\n",
              "      <td>3</td>\n",
              "      <td>United States</td>\n",
              "      <td>en</td>\n",
              "      <td>Trump</td>\n",
              "      <td>United States</td>\n",
              "      <td>-0.218750</td>\n",
              "      <td>0.575000</td>\n",
              "      <td>-0.6597</td>\n",
              "      <td>-0.439225</td>\n",
              "      <td>Negative</td>\n",
              "    </tr>\n",
              "    <tr>\n",
              "      <th>3</th>\n",
              "      <td>1271202833120014343</td>\n",
              "      <td>1478689148</td>\n",
              "      <td>RickPetree</td>\n",
              "      <td>Thu Jun 11 22:09:07 +0000 2020</td>\n",
              "      <td>@cincity631 @iosolofede @NastyOldWomyn @delacr...</td>\n",
              "      <td>17085</td>\n",
              "      <td>New York City</td>\n",
              "      <td>en</td>\n",
              "      <td>Trump</td>\n",
              "      <td>New York</td>\n",
              "      <td>0.008333</td>\n",
              "      <td>0.375641</td>\n",
              "      <td>-0.5719</td>\n",
              "      <td>-0.281783</td>\n",
              "      <td>Negative</td>\n",
              "    </tr>\n",
              "    <tr>\n",
              "      <th>4</th>\n",
              "      <td>1271202833724030982</td>\n",
              "      <td>2862562517</td>\n",
              "      <td>johnkrol60</td>\n",
              "      <td>Thu Jun 11 22:09:08 +0000 2020</td>\n",
              "      <td>@CNN well nobody cared about that when they we...</td>\n",
              "      <td>5</td>\n",
              "      <td>United States</td>\n",
              "      <td>en</td>\n",
              "      <td>Trump</td>\n",
              "      <td>United States</td>\n",
              "      <td>0.000000</td>\n",
              "      <td>0.000000</td>\n",
              "      <td>-0.8399</td>\n",
              "      <td>-0.419950</td>\n",
              "      <td>Negative</td>\n",
              "    </tr>\n",
              "    <tr>\n",
              "      <th>...</th>\n",
              "      <td>...</td>\n",
              "      <td>...</td>\n",
              "      <td>...</td>\n",
              "      <td>...</td>\n",
              "      <td>...</td>\n",
              "      <td>...</td>\n",
              "      <td>...</td>\n",
              "      <td>...</td>\n",
              "      <td>...</td>\n",
              "      <td>...</td>\n",
              "      <td>...</td>\n",
              "      <td>...</td>\n",
              "      <td>...</td>\n",
              "      <td>...</td>\n",
              "      <td>...</td>\n",
              "    </tr>\n",
              "    <tr>\n",
              "      <th>47544</th>\n",
              "      <td>1271268092027404289</td>\n",
              "      <td>42048593</td>\n",
              "      <td>nanatoyou</td>\n",
              "      <td>Fri Jun 12 02:28:26 +0000 2020</td>\n",
              "      <td>@HoarseWisperer @Alt_FedEmployee Trump needs m...</td>\n",
              "      <td>7093</td>\n",
              "      <td>United States</td>\n",
              "      <td>en</td>\n",
              "      <td>Trump</td>\n",
              "      <td>United States</td>\n",
              "      <td>-0.062500</td>\n",
              "      <td>0.525000</td>\n",
              "      <td>0.0000</td>\n",
              "      <td>-0.031250</td>\n",
              "      <td>Neutral</td>\n",
              "    </tr>\n",
              "    <tr>\n",
              "      <th>47545</th>\n",
              "      <td>1271268092165980162</td>\n",
              "      <td>1522327446</td>\n",
              "      <td>lee_myrna</td>\n",
              "      <td>Fri Jun 12 02:28:26 +0000 2020</td>\n",
              "      <td>@ewarren @HolderJeannehom It was a Trump/Repub...</td>\n",
              "      <td>625</td>\n",
              "      <td>Illinois, USA</td>\n",
              "      <td>en</td>\n",
              "      <td>Trump</td>\n",
              "      <td>Illinois</td>\n",
              "      <td>0.250000</td>\n",
              "      <td>0.750000</td>\n",
              "      <td>0.4404</td>\n",
              "      <td>0.345200</td>\n",
              "      <td>Positive</td>\n",
              "    </tr>\n",
              "    <tr>\n",
              "      <th>47546</th>\n",
              "      <td>1271268093247909889</td>\n",
              "      <td>1017509607013474305</td>\n",
              "      <td>TheyCallMeTomO1</td>\n",
              "      <td>Fri Jun 12 02:28:27 +0000 2020</td>\n",
              "      <td>No matter how dhitty the Dems treat President ...</td>\n",
              "      <td>33136</td>\n",
              "      <td>Sacramento, CA</td>\n",
              "      <td>en</td>\n",
              "      <td>Trump</td>\n",
              "      <td>California</td>\n",
              "      <td>0.000000</td>\n",
              "      <td>0.000000</td>\n",
              "      <td>0.2244</td>\n",
              "      <td>0.112200</td>\n",
              "      <td>Positive</td>\n",
              "    </tr>\n",
              "    <tr>\n",
              "      <th>47547</th>\n",
              "      <td>1271268093424070657</td>\n",
              "      <td>746377806754394116</td>\n",
              "      <td>BruceDuck2</td>\n",
              "      <td>Fri Jun 12 02:28:27 +0000 2020</td>\n",
              "      <td>@shayleesbibi @ThomasM64252649 @Thom_Sgt @mike...</td>\n",
              "      <td>1445</td>\n",
              "      <td>Oregon, USA</td>\n",
              "      <td>en</td>\n",
              "      <td>Trump</td>\n",
              "      <td>Oregon</td>\n",
              "      <td>0.600000</td>\n",
              "      <td>0.300000</td>\n",
              "      <td>0.6697</td>\n",
              "      <td>0.634850</td>\n",
              "      <td>Positive</td>\n",
              "    </tr>\n",
              "    <tr>\n",
              "      <th>47548</th>\n",
              "      <td>1271268096771121152</td>\n",
              "      <td>784306108085129216</td>\n",
              "      <td>HenryTContreras</td>\n",
              "      <td>Fri Jun 12 02:28:27 +0000 2020</td>\n",
              "      <td>@realDonaldTrump Trump is not running for re-e...</td>\n",
              "      <td>33264</td>\n",
              "      <td>Southern California 🏄🏻‍♂️</td>\n",
              "      <td>en</td>\n",
              "      <td>Trump</td>\n",
              "      <td>California</td>\n",
              "      <td>0.125000</td>\n",
              "      <td>0.622222</td>\n",
              "      <td>0.3769</td>\n",
              "      <td>0.250950</td>\n",
              "      <td>Positive</td>\n",
              "    </tr>\n",
              "  </tbody>\n",
              "</table>\n",
              "<p>47549 rows × 15 columns</p>\n",
              "</div>"
            ],
            "text/plain": [
              "                  Tweet_id              User_id  ... Sentiment Score Sentiment\n",
              "0      1271202831198851074  1220729068858961920  ...       -0.343000  Negative\n",
              "1      1271202830704132097             22781602  ...        0.163400  Positive\n",
              "2      1271202833006821381  1261094227464904704  ...       -0.439225  Negative\n",
              "3      1271202833120014343           1478689148  ...       -0.281783  Negative\n",
              "4      1271202833724030982           2862562517  ...       -0.419950  Negative\n",
              "...                    ...                  ...  ...             ...       ...\n",
              "47544  1271268092027404289             42048593  ...       -0.031250   Neutral\n",
              "47545  1271268092165980162           1522327446  ...        0.345200  Positive\n",
              "47546  1271268093247909889  1017509607013474305  ...        0.112200  Positive\n",
              "47547  1271268093424070657   746377806754394116  ...        0.634850  Positive\n",
              "47548  1271268096771121152   784306108085129216  ...        0.250950  Positive\n",
              "\n",
              "[47549 rows x 15 columns]"
            ]
          },
          "metadata": {
            "tags": []
          },
          "execution_count": 12
        }
      ]
    },
    {
      "cell_type": "code",
      "metadata": {
        "id": "8taCWqjOIHAD",
        "colab_type": "code",
        "outputId": "3b38a175-4f2a-482b-97df-8825e3bbb694",
        "colab": {
          "base_uri": "https://localhost:8080/",
          "height": 34
        }
      },
      "source": [
        "cd /content/drive/My Drive"
      ],
      "execution_count": 0,
      "outputs": [
        {
          "output_type": "stream",
          "text": [
            "/content/drive/My Drive\n"
          ],
          "name": "stdout"
        }
      ]
    },
    {
      "cell_type": "code",
      "metadata": {
        "id": "L2fFjeB1KqYY",
        "colab_type": "code",
        "colab": {}
      },
      "source": [
        "from google.colab import files\n",
        "df.to_csv('tweeter_dataset2.csv')"
      ],
      "execution_count": 0,
      "outputs": []
    },
    {
      "cell_type": "code",
      "metadata": {
        "id": "G6hVrbPES9Cp",
        "colab_type": "code",
        "colab": {}
      },
      "source": [
        "files.download('tweeter_dataset2.csv')"
      ],
      "execution_count": 0,
      "outputs": []
    },
    {
      "cell_type": "markdown",
      "metadata": {
        "id": "jhef74uNqDub",
        "colab_type": "text"
      },
      "source": [
        "# Analysis of Influencers\n",
        "\n"
      ]
    },
    {
      "cell_type": "markdown",
      "metadata": {
        "id": "Ns4agKqA1ESX",
        "colab_type": "text"
      },
      "source": [
        "Loading the compiled dataset"
      ]
    },
    {
      "cell_type": "code",
      "metadata": {
        "id": "ymTmLSa3NXdf",
        "colab_type": "code",
        "colab": {
          "base_uri": "https://localhost:8080/",
          "height": 139
        },
        "outputId": "aff0b47d-9eb1-4f8c-ef1d-4f744c8c112a"
      },
      "source": [
        "import json\n",
        "import pandas as pd\n",
        "import numpy as np\n",
        "import matplotlib.pyplot as plt\n",
        "import seaborn as sns\n",
        "import csv\n",
        "import os\n",
        "from textblob import TextBlob\n",
        "import re\n",
        "import nltk\n",
        "nltk.download('vader_lexicon')\n",
        "from nltk.sentiment.vader import SentimentIntensityAnalyzer\n",
        "import zipfile\n",
        "pd.options.mode.chained_assignment = \"warn\""
      ],
      "execution_count": 3,
      "outputs": [
        {
          "output_type": "stream",
          "text": [
            "/usr/local/lib/python3.6/dist-packages/statsmodels/tools/_testing.py:19: FutureWarning: pandas.util.testing is deprecated. Use the functions in the public API at pandas.testing instead.\n",
            "  import pandas.util.testing as tm\n"
          ],
          "name": "stderr"
        },
        {
          "output_type": "stream",
          "text": [
            "[nltk_data] Downloading package vader_lexicon to /root/nltk_data...\n",
            "[nltk_data]   Package vader_lexicon is already up-to-date!\n"
          ],
          "name": "stdout"
        },
        {
          "output_type": "stream",
          "text": [
            "/usr/local/lib/python3.6/dist-packages/nltk/twitter/__init__.py:20: UserWarning: The twython library has not been installed. Some functionality from the twitter package will not be available.\n",
            "  warnings.warn(\"The twython library has not been installed. \"\n"
          ],
          "name": "stderr"
        }
      ]
    },
    {
      "cell_type": "code",
      "metadata": {
        "id": "FwcYVAOE1wGv",
        "colab_type": "code",
        "colab": {}
      },
      "source": [
        "#Unziping the downloaded file and placing the images in the tmp folder\n",
        "local_zip = '//content/drive/My Drive/tweeter_dataset.csv.zip'\n",
        "zip_ref = zipfile.ZipFile(local_zip, 'r')\n",
        "zip_ref.extractall('/content')\n",
        "zip_ref.close()"
      ],
      "execution_count": 0,
      "outputs": []
    },
    {
      "cell_type": "code",
      "metadata": {
        "id": "VPlMrr4L7mMh",
        "colab_type": "code",
        "colab": {
          "base_uri": "https://localhost:8080/",
          "height": 1000
        },
        "outputId": "e73f311e-dcec-47cd-903b-9ec6f461aba6"
      },
      "source": [
        "df = pd.DataFrame(pd.read_csv(\"/content/tweeter_dataset.csv\"))\n",
        "df"
      ],
      "execution_count": 5,
      "outputs": [
        {
          "output_type": "execute_result",
          "data": {
            "text/html": [
              "<div>\n",
              "<style scoped>\n",
              "    .dataframe tbody tr th:only-of-type {\n",
              "        vertical-align: middle;\n",
              "    }\n",
              "\n",
              "    .dataframe tbody tr th {\n",
              "        vertical-align: top;\n",
              "    }\n",
              "\n",
              "    .dataframe thead th {\n",
              "        text-align: right;\n",
              "    }\n",
              "</style>\n",
              "<table border=\"1\" class=\"dataframe\">\n",
              "  <thead>\n",
              "    <tr style=\"text-align: right;\">\n",
              "      <th></th>\n",
              "      <th>Tweet_id</th>\n",
              "      <th>User_id</th>\n",
              "      <th>date</th>\n",
              "      <th>text</th>\n",
              "      <th>followers_count</th>\n",
              "      <th>Mention</th>\n",
              "      <th>State</th>\n",
              "      <th>polarity</th>\n",
              "      <th>subjectivity</th>\n",
              "      <th>Compound</th>\n",
              "      <th>Sentiment Score</th>\n",
              "      <th>Sentiment</th>\n",
              "    </tr>\n",
              "  </thead>\n",
              "  <tbody>\n",
              "    <tr>\n",
              "      <th>0</th>\n",
              "      <td>1.270000e+18</td>\n",
              "      <td>9.630000e+17</td>\n",
              "      <td>Sun Jun 07 08:51:07 +0000 2020</td>\n",
              "      <td>@StewieGilchrist The problem is they turn out ...</td>\n",
              "      <td>196</td>\n",
              "      <td>Trump</td>\n",
              "      <td>United States</td>\n",
              "      <td>-0.400000</td>\n",
              "      <td>0.500000</td>\n",
              "      <td>-0.7197</td>\n",
              "      <td>-0.559850</td>\n",
              "      <td>Negative</td>\n",
              "    </tr>\n",
              "    <tr>\n",
              "      <th>1</th>\n",
              "      <td>1.270000e+18</td>\n",
              "      <td>3.840433e+07</td>\n",
              "      <td>Sun Jun 07 08:51:07 +0000 2020</td>\n",
              "      <td>I just posted \"Media And Democrats \"Political ...</td>\n",
              "      <td>1615</td>\n",
              "      <td>Trump</td>\n",
              "      <td>United States</td>\n",
              "      <td>0.000000</td>\n",
              "      <td>0.550000</td>\n",
              "      <td>-0.2577</td>\n",
              "      <td>-0.128850</td>\n",
              "      <td>Negative</td>\n",
              "    </tr>\n",
              "    <tr>\n",
              "      <th>2</th>\n",
              "      <td>1.270000e+18</td>\n",
              "      <td>1.709346e+09</td>\n",
              "      <td>Sun Jun 07 08:51:10 +0000 2020</td>\n",
              "      <td>Stand Together for the USA regardless of Party...</td>\n",
              "      <td>110</td>\n",
              "      <td>Trump</td>\n",
              "      <td>Colorado</td>\n",
              "      <td>0.296875</td>\n",
              "      <td>0.637500</td>\n",
              "      <td>0.8306</td>\n",
              "      <td>0.563738</td>\n",
              "      <td>Positive</td>\n",
              "    </tr>\n",
              "    <tr>\n",
              "      <th>3</th>\n",
              "      <td>1.270000e+18</td>\n",
              "      <td>2.470771e+09</td>\n",
              "      <td>Sun Jun 07 08:51:10 +0000 2020</td>\n",
              "      <td>@IngrahamAngle @AalstV Trump has a Bible, I'm ...</td>\n",
              "      <td>18</td>\n",
              "      <td>Trump</td>\n",
              "      <td>United States</td>\n",
              "      <td>0.037500</td>\n",
              "      <td>0.734722</td>\n",
              "      <td>0.0516</td>\n",
              "      <td>0.044550</td>\n",
              "      <td>Neutral</td>\n",
              "    </tr>\n",
              "    <tr>\n",
              "      <th>4</th>\n",
              "      <td>1.270000e+18</td>\n",
              "      <td>1.170000e+18</td>\n",
              "      <td>Sun Jun 07 08:51:11 +0000 2020</td>\n",
              "      <td>@edisn @igobyMdot @KyaeGunn @HillaryClinton I'...</td>\n",
              "      <td>121</td>\n",
              "      <td>Trump</td>\n",
              "      <td>United States</td>\n",
              "      <td>-0.075000</td>\n",
              "      <td>0.516667</td>\n",
              "      <td>0.2168</td>\n",
              "      <td>0.070900</td>\n",
              "      <td>Positive</td>\n",
              "    </tr>\n",
              "    <tr>\n",
              "      <th>...</th>\n",
              "      <td>...</td>\n",
              "      <td>...</td>\n",
              "      <td>...</td>\n",
              "      <td>...</td>\n",
              "      <td>...</td>\n",
              "      <td>...</td>\n",
              "      <td>...</td>\n",
              "      <td>...</td>\n",
              "      <td>...</td>\n",
              "      <td>...</td>\n",
              "      <td>...</td>\n",
              "      <td>...</td>\n",
              "    </tr>\n",
              "    <tr>\n",
              "      <th>432810</th>\n",
              "      <td>1.270000e+18</td>\n",
              "      <td>4.204859e+07</td>\n",
              "      <td>Fri Jun 12 02:28:26 +0000 2020</td>\n",
              "      <td>@HoarseWisperer @Alt_FedEmployee Trump needs m...</td>\n",
              "      <td>7093</td>\n",
              "      <td>Trump</td>\n",
              "      <td>United States</td>\n",
              "      <td>-0.062500</td>\n",
              "      <td>0.525000</td>\n",
              "      <td>0.0000</td>\n",
              "      <td>-0.031250</td>\n",
              "      <td>Neutral</td>\n",
              "    </tr>\n",
              "    <tr>\n",
              "      <th>432811</th>\n",
              "      <td>1.270000e+18</td>\n",
              "      <td>1.522327e+09</td>\n",
              "      <td>Fri Jun 12 02:28:26 +0000 2020</td>\n",
              "      <td>@ewarren @HolderJeannehom It was a Trump/Repub...</td>\n",
              "      <td>625</td>\n",
              "      <td>Trump</td>\n",
              "      <td>Illinois</td>\n",
              "      <td>0.250000</td>\n",
              "      <td>0.750000</td>\n",
              "      <td>0.4404</td>\n",
              "      <td>0.345200</td>\n",
              "      <td>Positive</td>\n",
              "    </tr>\n",
              "    <tr>\n",
              "      <th>432812</th>\n",
              "      <td>1.270000e+18</td>\n",
              "      <td>1.020000e+18</td>\n",
              "      <td>Fri Jun 12 02:28:27 +0000 2020</td>\n",
              "      <td>No matter how dhitty the Dems treat President ...</td>\n",
              "      <td>33136</td>\n",
              "      <td>Trump</td>\n",
              "      <td>California</td>\n",
              "      <td>0.000000</td>\n",
              "      <td>0.000000</td>\n",
              "      <td>0.2244</td>\n",
              "      <td>0.112200</td>\n",
              "      <td>Positive</td>\n",
              "    </tr>\n",
              "    <tr>\n",
              "      <th>432813</th>\n",
              "      <td>1.270000e+18</td>\n",
              "      <td>7.460000e+17</td>\n",
              "      <td>Fri Jun 12 02:28:27 +0000 2020</td>\n",
              "      <td>@shayleesbibi @ThomasM64252649 @Thom_Sgt @mike...</td>\n",
              "      <td>1445</td>\n",
              "      <td>Trump</td>\n",
              "      <td>Oregon</td>\n",
              "      <td>0.600000</td>\n",
              "      <td>0.300000</td>\n",
              "      <td>0.6697</td>\n",
              "      <td>0.634850</td>\n",
              "      <td>Positive</td>\n",
              "    </tr>\n",
              "    <tr>\n",
              "      <th>432814</th>\n",
              "      <td>1.270000e+18</td>\n",
              "      <td>7.840000e+17</td>\n",
              "      <td>Fri Jun 12 02:28:27 +0000 2020</td>\n",
              "      <td>@realDonaldTrump Trump is not running for re-e...</td>\n",
              "      <td>33264</td>\n",
              "      <td>Trump</td>\n",
              "      <td>California</td>\n",
              "      <td>0.125000</td>\n",
              "      <td>0.622222</td>\n",
              "      <td>0.3769</td>\n",
              "      <td>0.250950</td>\n",
              "      <td>Positive</td>\n",
              "    </tr>\n",
              "  </tbody>\n",
              "</table>\n",
              "<p>432815 rows × 12 columns</p>\n",
              "</div>"
            ],
            "text/plain": [
              "            Tweet_id       User_id  ... Sentiment Score Sentiment\n",
              "0       1.270000e+18  9.630000e+17  ...       -0.559850  Negative\n",
              "1       1.270000e+18  3.840433e+07  ...       -0.128850  Negative\n",
              "2       1.270000e+18  1.709346e+09  ...        0.563738  Positive\n",
              "3       1.270000e+18  2.470771e+09  ...        0.044550   Neutral\n",
              "4       1.270000e+18  1.170000e+18  ...        0.070900  Positive\n",
              "...              ...           ...  ...             ...       ...\n",
              "432810  1.270000e+18  4.204859e+07  ...       -0.031250   Neutral\n",
              "432811  1.270000e+18  1.522327e+09  ...        0.345200  Positive\n",
              "432812  1.270000e+18  1.020000e+18  ...        0.112200  Positive\n",
              "432813  1.270000e+18  7.460000e+17  ...        0.634850  Positive\n",
              "432814  1.270000e+18  7.840000e+17  ...        0.250950  Positive\n",
              "\n",
              "[432815 rows x 12 columns]"
            ]
          },
          "metadata": {
            "tags": []
          },
          "execution_count": 5
        }
      ]
    },
    {
      "cell_type": "code",
      "metadata": {
        "id": "yF_K8xaoALIO",
        "colab_type": "code",
        "colab": {
          "base_uri": "https://localhost:8080/",
          "height": 1000
        },
        "outputId": "14c48eb5-f40e-4759-8b8a-22664eba1065"
      },
      "source": [
        "df1 = df.drop_duplicates(['User_id'], keep = 'last', ignore_index=True)\n",
        "df1"
      ],
      "execution_count": 6,
      "outputs": [
        {
          "output_type": "execute_result",
          "data": {
            "text/html": [
              "<div>\n",
              "<style scoped>\n",
              "    .dataframe tbody tr th:only-of-type {\n",
              "        vertical-align: middle;\n",
              "    }\n",
              "\n",
              "    .dataframe tbody tr th {\n",
              "        vertical-align: top;\n",
              "    }\n",
              "\n",
              "    .dataframe thead th {\n",
              "        text-align: right;\n",
              "    }\n",
              "</style>\n",
              "<table border=\"1\" class=\"dataframe\">\n",
              "  <thead>\n",
              "    <tr style=\"text-align: right;\">\n",
              "      <th></th>\n",
              "      <th>Tweet_id</th>\n",
              "      <th>User_id</th>\n",
              "      <th>date</th>\n",
              "      <th>text</th>\n",
              "      <th>followers_count</th>\n",
              "      <th>Mention</th>\n",
              "      <th>State</th>\n",
              "      <th>polarity</th>\n",
              "      <th>subjectivity</th>\n",
              "      <th>Compound</th>\n",
              "      <th>Sentiment Score</th>\n",
              "      <th>Sentiment</th>\n",
              "    </tr>\n",
              "  </thead>\n",
              "  <tbody>\n",
              "    <tr>\n",
              "      <th>0</th>\n",
              "      <td>1.270000e+18</td>\n",
              "      <td>3.840433e+07</td>\n",
              "      <td>Sun Jun 07 08:51:07 +0000 2020</td>\n",
              "      <td>I just posted \"Media And Democrats \"Political ...</td>\n",
              "      <td>1615</td>\n",
              "      <td>Trump</td>\n",
              "      <td>United States</td>\n",
              "      <td>0.000000</td>\n",
              "      <td>0.550000</td>\n",
              "      <td>-0.2577</td>\n",
              "      <td>-0.128850</td>\n",
              "      <td>Negative</td>\n",
              "    </tr>\n",
              "    <tr>\n",
              "      <th>1</th>\n",
              "      <td>1.270000e+18</td>\n",
              "      <td>7.386861e+07</td>\n",
              "      <td>Sun Jun 07 08:51:20 +0000 2020</td>\n",
              "      <td>#GeorgeLloyd #coronavirus #JK #jk_rowling #Don...</td>\n",
              "      <td>270</td>\n",
              "      <td>Trump</td>\n",
              "      <td>United States</td>\n",
              "      <td>0.133333</td>\n",
              "      <td>0.533333</td>\n",
              "      <td>-0.3034</td>\n",
              "      <td>-0.085033</td>\n",
              "      <td>Negative</td>\n",
              "    </tr>\n",
              "    <tr>\n",
              "      <th>2</th>\n",
              "      <td>1.270000e+18</td>\n",
              "      <td>3.485457e+09</td>\n",
              "      <td>Sun Jun 07 08:51:25 +0000 2020</td>\n",
              "      <td>@brandondarby You have been played by the demo...</td>\n",
              "      <td>202</td>\n",
              "      <td>Trump</td>\n",
              "      <td>Georgia</td>\n",
              "      <td>0.466667</td>\n",
              "      <td>0.700000</td>\n",
              "      <td>0.8271</td>\n",
              "      <td>0.646883</td>\n",
              "      <td>Positive</td>\n",
              "    </tr>\n",
              "    <tr>\n",
              "      <th>3</th>\n",
              "      <td>1.270000e+18</td>\n",
              "      <td>2.595886e+07</td>\n",
              "      <td>Sun Jun 07 08:51:26 +0000 2020</td>\n",
              "      <td>@WaltBlackmanAZ What is your malfunction?! I‚Ä...</td>\n",
              "      <td>4</td>\n",
              "      <td>Trump</td>\n",
              "      <td>United States</td>\n",
              "      <td>-0.500000</td>\n",
              "      <td>0.950000</td>\n",
              "      <td>-0.8070</td>\n",
              "      <td>-0.653500</td>\n",
              "      <td>Negative</td>\n",
              "    </tr>\n",
              "    <tr>\n",
              "      <th>4</th>\n",
              "      <td>1.270000e+18</td>\n",
              "      <td>5.035796e+08</td>\n",
              "      <td>Sun Jun 07 08:51:31 +0000 2020</td>\n",
              "      <td>@itsGraceNoriega When you stop calling my comm...</td>\n",
              "      <td>247</td>\n",
              "      <td>Trump</td>\n",
              "      <td>United States</td>\n",
              "      <td>0.378788</td>\n",
              "      <td>0.766667</td>\n",
              "      <td>-0.0516</td>\n",
              "      <td>0.163594</td>\n",
              "      <td>Positive</td>\n",
              "    </tr>\n",
              "    <tr>\n",
              "      <th>...</th>\n",
              "      <td>...</td>\n",
              "      <td>...</td>\n",
              "      <td>...</td>\n",
              "      <td>...</td>\n",
              "      <td>...</td>\n",
              "      <td>...</td>\n",
              "      <td>...</td>\n",
              "      <td>...</td>\n",
              "      <td>...</td>\n",
              "      <td>...</td>\n",
              "      <td>...</td>\n",
              "      <td>...</td>\n",
              "    </tr>\n",
              "    <tr>\n",
              "      <th>110441</th>\n",
              "      <td>1.270000e+18</td>\n",
              "      <td>4.204859e+07</td>\n",
              "      <td>Fri Jun 12 02:28:26 +0000 2020</td>\n",
              "      <td>@HoarseWisperer @Alt_FedEmployee Trump needs m...</td>\n",
              "      <td>7093</td>\n",
              "      <td>Trump</td>\n",
              "      <td>United States</td>\n",
              "      <td>-0.062500</td>\n",
              "      <td>0.525000</td>\n",
              "      <td>0.0000</td>\n",
              "      <td>-0.031250</td>\n",
              "      <td>Neutral</td>\n",
              "    </tr>\n",
              "    <tr>\n",
              "      <th>110442</th>\n",
              "      <td>1.270000e+18</td>\n",
              "      <td>1.522327e+09</td>\n",
              "      <td>Fri Jun 12 02:28:26 +0000 2020</td>\n",
              "      <td>@ewarren @HolderJeannehom It was a Trump/Repub...</td>\n",
              "      <td>625</td>\n",
              "      <td>Trump</td>\n",
              "      <td>Illinois</td>\n",
              "      <td>0.250000</td>\n",
              "      <td>0.750000</td>\n",
              "      <td>0.4404</td>\n",
              "      <td>0.345200</td>\n",
              "      <td>Positive</td>\n",
              "    </tr>\n",
              "    <tr>\n",
              "      <th>110443</th>\n",
              "      <td>1.270000e+18</td>\n",
              "      <td>1.020000e+18</td>\n",
              "      <td>Fri Jun 12 02:28:27 +0000 2020</td>\n",
              "      <td>No matter how dhitty the Dems treat President ...</td>\n",
              "      <td>33136</td>\n",
              "      <td>Trump</td>\n",
              "      <td>California</td>\n",
              "      <td>0.000000</td>\n",
              "      <td>0.000000</td>\n",
              "      <td>0.2244</td>\n",
              "      <td>0.112200</td>\n",
              "      <td>Positive</td>\n",
              "    </tr>\n",
              "    <tr>\n",
              "      <th>110444</th>\n",
              "      <td>1.270000e+18</td>\n",
              "      <td>7.460000e+17</td>\n",
              "      <td>Fri Jun 12 02:28:27 +0000 2020</td>\n",
              "      <td>@shayleesbibi @ThomasM64252649 @Thom_Sgt @mike...</td>\n",
              "      <td>1445</td>\n",
              "      <td>Trump</td>\n",
              "      <td>Oregon</td>\n",
              "      <td>0.600000</td>\n",
              "      <td>0.300000</td>\n",
              "      <td>0.6697</td>\n",
              "      <td>0.634850</td>\n",
              "      <td>Positive</td>\n",
              "    </tr>\n",
              "    <tr>\n",
              "      <th>110445</th>\n",
              "      <td>1.270000e+18</td>\n",
              "      <td>7.840000e+17</td>\n",
              "      <td>Fri Jun 12 02:28:27 +0000 2020</td>\n",
              "      <td>@realDonaldTrump Trump is not running for re-e...</td>\n",
              "      <td>33264</td>\n",
              "      <td>Trump</td>\n",
              "      <td>California</td>\n",
              "      <td>0.125000</td>\n",
              "      <td>0.622222</td>\n",
              "      <td>0.3769</td>\n",
              "      <td>0.250950</td>\n",
              "      <td>Positive</td>\n",
              "    </tr>\n",
              "  </tbody>\n",
              "</table>\n",
              "<p>110446 rows × 12 columns</p>\n",
              "</div>"
            ],
            "text/plain": [
              "            Tweet_id       User_id  ... Sentiment Score Sentiment\n",
              "0       1.270000e+18  3.840433e+07  ...       -0.128850  Negative\n",
              "1       1.270000e+18  7.386861e+07  ...       -0.085033  Negative\n",
              "2       1.270000e+18  3.485457e+09  ...        0.646883  Positive\n",
              "3       1.270000e+18  2.595886e+07  ...       -0.653500  Negative\n",
              "4       1.270000e+18  5.035796e+08  ...        0.163594  Positive\n",
              "...              ...           ...  ...             ...       ...\n",
              "110441  1.270000e+18  4.204859e+07  ...       -0.031250   Neutral\n",
              "110442  1.270000e+18  1.522327e+09  ...        0.345200  Positive\n",
              "110443  1.270000e+18  1.020000e+18  ...        0.112200  Positive\n",
              "110444  1.270000e+18  7.460000e+17  ...        0.634850  Positive\n",
              "110445  1.270000e+18  7.840000e+17  ...        0.250950  Positive\n",
              "\n",
              "[110446 rows x 12 columns]"
            ]
          },
          "metadata": {
            "tags": []
          },
          "execution_count": 6
        }
      ]
    },
    {
      "cell_type": "code",
      "metadata": {
        "id": "3yWd3A-AEXrw",
        "colab_type": "code",
        "colab": {
          "base_uri": "https://localhost:8080/",
          "height": 102
        },
        "outputId": "de09dc28-42a8-47f6-f05e-e7874d89691a"
      },
      "source": [
        "x = df1[df1['Mention'] == 'Trump']['Sentiment'].value_counts()\n",
        "print(\"Trump's sentiment votes\")\n",
        "x"
      ],
      "execution_count": 8,
      "outputs": [
        {
          "output_type": "stream",
          "text": [
            "Trump's sentiment votes\n"
          ],
          "name": "stdout"
        },
        {
          "output_type": "execute_result",
          "data": {
            "text/plain": [
              "Negative    44994\n",
              "Positive    36831\n",
              "Neutral      9098\n",
              "Name: Sentiment, dtype: int64"
            ]
          },
          "metadata": {
            "tags": []
          },
          "execution_count": 8
        }
      ]
    },
    {
      "cell_type": "code",
      "metadata": {
        "id": "8onvcNz7Ek7_",
        "colab_type": "code",
        "colab": {
          "base_uri": "https://localhost:8080/",
          "height": 102
        },
        "outputId": "75f548ad-a755-4c70-a42b-038238f214f2"
      },
      "source": [
        "y = df1[df1['Mention'] == 'Biden']['Sentiment'].value_counts()\n",
        "print(\"Biden's sentiment votes\")\n",
        "y"
      ],
      "execution_count": 9,
      "outputs": [
        {
          "output_type": "stream",
          "text": [
            "Biden's sentiment votes\n"
          ],
          "name": "stdout"
        },
        {
          "output_type": "execute_result",
          "data": {
            "text/plain": [
              "Positive    6163\n",
              "Negative    5790\n",
              "Neutral     1445\n",
              "Name: Sentiment, dtype: int64"
            ]
          },
          "metadata": {
            "tags": []
          },
          "execution_count": 9
        }
      ]
    },
    {
      "cell_type": "code",
      "metadata": {
        "id": "SmEPkig8EnMq",
        "colab_type": "code",
        "colab": {
          "base_uri": "https://localhost:8080/",
          "height": 68
        },
        "outputId": "4ad0e29e-6907-4d25-c7a4-68be8ea95d74"
      },
      "source": [
        "t = np.round((36831+5790)/(x.sum()+y.sum())*100,2)\n",
        "b = np.round((6163+44994)/(x.sum()+y.sum())*100,2)\n",
        "\n",
        "print(\"National Results by accounting only unique twitter accounts as voters\")\n",
        "print(\"Trump: {}%\".format(t))\n",
        "print(\"Biden: {}%\".format(b))\n"
      ],
      "execution_count": 13,
      "outputs": [
        {
          "output_type": "stream",
          "text": [
            "National Results by accounting only unique twitter accounts as voters\n",
            "Trump: 40.86%\n",
            "Biden: 49.04%\n"
          ],
          "name": "stdout"
        }
      ]
    },
    {
      "cell_type": "code",
      "metadata": {
        "id": "FsI033i_TB2C",
        "colab_type": "code",
        "colab": {
          "base_uri": "https://localhost:8080/",
          "height": 1000
        },
        "outputId": "f3c4553b-7254-4888-8830-f53f64aee6e2"
      },
      "source": [
        "df1['Trump Voters'] = 0\n",
        "df1['Biden Voters'] = 0\n",
        "df1['Neutral Voters'] = 0\n",
        "\n",
        "proportion = 0.0005\n",
        "influence = 5000\n",
        "\n",
        "for index, row in df1.iterrows():\n",
        "  if df1['Mention'][index] == 'Trump' and df1['followers_count'][index] >= influence and df1['Sentiment'][index] == 'Positive':\n",
        "    df1['Trump Voters'][index] = df1['followers_count'][index]*proportion\n",
        "  elif df1['Mention'][index] == 'Trump' and df1['followers_count'][index] < influence and df1['Sentiment'][index] == 'Positive':\n",
        "    df1['Trump Voters'][index] = 1\n",
        "  elif df1['Mention'][index] == 'Biden' and df1['followers_count'][index] >= influence and df1['Sentiment'][index] == 'Negative':\n",
        "    df1['Trump Voters'][index] = df1['followers_count'][index]*proportion\n",
        "  elif df1['Mention'][index] == 'Biden' and df1['followers_count'][index] < influence and df1['Sentiment'][index] == 'Negative':\n",
        "    df1['Trump Voters'][index] = 1\n",
        "  elif df1['Mention'][index] == 'Biden' and df1['followers_count'][index] >= influence and df1['Sentiment'][index] == 'Positive':\n",
        "    df1['Biden Voters'][index] = df1['followers_count'][index]*proportion\n",
        "  elif df1['Mention'][index] == 'Biden' and df1['followers_count'][index] < influence and df1['Sentiment'][index] == 'Positive':\n",
        "    df1['Biden Voters'][index] = 1\n",
        "  elif df1['Mention'][index] == 'Trump' and df1['followers_count'][index] >= influence and df1['Sentiment'][index] == 'Negative':\n",
        "    df1['Biden Voters'][index] = df1['followers_count'][index]*proportion\n",
        "  elif df1['Mention'][index] == 'Trump' and df1['followers_count'][index] < influence and df1['Sentiment'][index] == 'Negative':\n",
        "    df1['Biden Voters'][index] = 1\n",
        "  elif df1['Mention'][index] == 'Trump' and df1['followers_count'][index] < influence and df1['Sentiment'][index] == 'Neutral':\n",
        "    df1['Neutral Voters'][index] = 1\n",
        "  elif df1['Mention'][index] == 'Trump' and df1['followers_count'][index] >= influence and df1['Sentiment'][index] == 'Neutral':\n",
        "    df1['Neutral Voters'][index] = df1['followers_count'][index]*proportion\n",
        "  elif df1['Mention'][index] == 'Biden' and df1['followers_count'][index] < influence and df1['Sentiment'][index] == 'Neutral':\n",
        "    df1['Neutral Voters'][index] = 1\n",
        "  elif df1['Mention'][index] == 'Biden' and df1['followers_count'][index] >= influence and df1['Sentiment'][index] == 'Neutral':\n",
        "    df1['Neutral Voters'][index] = df1['followers_count'][index]*proportion\n",
        "  elif df1['Mention'][index] == 'Trump & Biden' and df1['followers_count'][index] < influence and df1['Sentiment'][index] == 'Neutral':\n",
        "    df1['Neutral Voters'][index] = 1\n",
        "  elif df1['Mention'][index] == 'Trump & Biden' and df1['followers_count'][index] >= influence and df1['Sentiment'][index] == 'Neutral':\n",
        "    df1['Neutral Voters'][index] = df1['followers_count'][index]*proportion\n",
        "  else:\n",
        "    df1['Neutral Voters'][index] = 1\n"
      ],
      "execution_count": 14,
      "outputs": [
        {
          "output_type": "stream",
          "text": [
            "/usr/local/lib/python3.6/dist-packages/ipykernel_launcher.py:1: SettingWithCopyWarning: \n",
            "A value is trying to be set on a copy of a slice from a DataFrame.\n",
            "Try using .loc[row_indexer,col_indexer] = value instead\n",
            "\n",
            "See the caveats in the documentation: https://pandas.pydata.org/pandas-docs/stable/user_guide/indexing.html#returning-a-view-versus-a-copy\n",
            "  \"\"\"Entry point for launching an IPython kernel.\n",
            "/usr/local/lib/python3.6/dist-packages/ipykernel_launcher.py:2: SettingWithCopyWarning: \n",
            "A value is trying to be set on a copy of a slice from a DataFrame.\n",
            "Try using .loc[row_indexer,col_indexer] = value instead\n",
            "\n",
            "See the caveats in the documentation: https://pandas.pydata.org/pandas-docs/stable/user_guide/indexing.html#returning-a-view-versus-a-copy\n",
            "  \n",
            "/usr/local/lib/python3.6/dist-packages/ipykernel_launcher.py:3: SettingWithCopyWarning: \n",
            "A value is trying to be set on a copy of a slice from a DataFrame.\n",
            "Try using .loc[row_indexer,col_indexer] = value instead\n",
            "\n",
            "See the caveats in the documentation: https://pandas.pydata.org/pandas-docs/stable/user_guide/indexing.html#returning-a-view-versus-a-copy\n",
            "  This is separate from the ipykernel package so we can avoid doing imports until\n",
            "/usr/local/lib/python3.6/dist-packages/ipykernel_launcher.py:24: SettingWithCopyWarning: \n",
            "A value is trying to be set on a copy of a slice from a DataFrame\n",
            "\n",
            "See the caveats in the documentation: https://pandas.pydata.org/pandas-docs/stable/user_guide/indexing.html#returning-a-view-versus-a-copy\n",
            "/usr/local/lib/python3.6/dist-packages/IPython/core/interactiveshell.py:2882: SettingWithCopyWarning: \n",
            "A value is trying to be set on a copy of a slice from a DataFrame\n",
            "\n",
            "See the caveats in the documentation: https://pandas.pydata.org/pandas-docs/stable/user_guide/indexing.html#returning-a-view-versus-a-copy\n",
            "  exec(code_obj, self.user_global_ns, self.user_ns)\n",
            "/usr/local/lib/python3.6/dist-packages/ipykernel_launcher.py:12: SettingWithCopyWarning: \n",
            "A value is trying to be set on a copy of a slice from a DataFrame\n",
            "\n",
            "See the caveats in the documentation: https://pandas.pydata.org/pandas-docs/stable/user_guide/indexing.html#returning-a-view-versus-a-copy\n",
            "  if sys.path[0] == '':\n",
            "/usr/local/lib/python3.6/dist-packages/ipykernel_launcher.py:10: SettingWithCopyWarning: \n",
            "A value is trying to be set on a copy of a slice from a DataFrame\n",
            "\n",
            "See the caveats in the documentation: https://pandas.pydata.org/pandas-docs/stable/user_guide/indexing.html#returning-a-view-versus-a-copy\n",
            "  # Remove the CWD from sys.path while we load stuff.\n",
            "/usr/local/lib/python3.6/dist-packages/ipykernel_launcher.py:26: SettingWithCopyWarning: \n",
            "A value is trying to be set on a copy of a slice from a DataFrame\n",
            "\n",
            "See the caveats in the documentation: https://pandas.pydata.org/pandas-docs/stable/user_guide/indexing.html#returning-a-view-versus-a-copy\n",
            "/usr/local/lib/python3.6/dist-packages/ipykernel_launcher.py:20: SettingWithCopyWarning: \n",
            "A value is trying to be set on a copy of a slice from a DataFrame\n",
            "\n",
            "See the caveats in the documentation: https://pandas.pydata.org/pandas-docs/stable/user_guide/indexing.html#returning-a-view-versus-a-copy\n",
            "/usr/local/lib/python3.6/dist-packages/ipykernel_launcher.py:16: SettingWithCopyWarning: \n",
            "A value is trying to be set on a copy of a slice from a DataFrame\n",
            "\n",
            "See the caveats in the documentation: https://pandas.pydata.org/pandas-docs/stable/user_guide/indexing.html#returning-a-view-versus-a-copy\n",
            "  app.launch_new_instance()\n",
            "/usr/local/lib/python3.6/dist-packages/ipykernel_launcher.py:30: SettingWithCopyWarning: \n",
            "A value is trying to be set on a copy of a slice from a DataFrame\n",
            "\n",
            "See the caveats in the documentation: https://pandas.pydata.org/pandas-docs/stable/user_guide/indexing.html#returning-a-view-versus-a-copy\n",
            "/usr/local/lib/python3.6/dist-packages/ipykernel_launcher.py:14: SettingWithCopyWarning: \n",
            "A value is trying to be set on a copy of a slice from a DataFrame\n",
            "\n",
            "See the caveats in the documentation: https://pandas.pydata.org/pandas-docs/stable/user_guide/indexing.html#returning-a-view-versus-a-copy\n",
            "  \n",
            "/usr/local/lib/python3.6/dist-packages/ipykernel_launcher.py:22: SettingWithCopyWarning: \n",
            "A value is trying to be set on a copy of a slice from a DataFrame\n",
            "\n",
            "See the caveats in the documentation: https://pandas.pydata.org/pandas-docs/stable/user_guide/indexing.html#returning-a-view-versus-a-copy\n",
            "/usr/local/lib/python3.6/dist-packages/ipykernel_launcher.py:38: SettingWithCopyWarning: \n",
            "A value is trying to be set on a copy of a slice from a DataFrame\n",
            "\n",
            "See the caveats in the documentation: https://pandas.pydata.org/pandas-docs/stable/user_guide/indexing.html#returning-a-view-versus-a-copy\n",
            "/usr/local/lib/python3.6/dist-packages/ipykernel_launcher.py:28: SettingWithCopyWarning: \n",
            "A value is trying to be set on a copy of a slice from a DataFrame\n",
            "\n",
            "See the caveats in the documentation: https://pandas.pydata.org/pandas-docs/stable/user_guide/indexing.html#returning-a-view-versus-a-copy\n",
            "/usr/local/lib/python3.6/dist-packages/ipykernel_launcher.py:18: SettingWithCopyWarning: \n",
            "A value is trying to be set on a copy of a slice from a DataFrame\n",
            "\n",
            "See the caveats in the documentation: https://pandas.pydata.org/pandas-docs/stable/user_guide/indexing.html#returning-a-view-versus-a-copy\n",
            "/usr/local/lib/python3.6/dist-packages/ipykernel_launcher.py:32: SettingWithCopyWarning: \n",
            "A value is trying to be set on a copy of a slice from a DataFrame\n",
            "\n",
            "See the caveats in the documentation: https://pandas.pydata.org/pandas-docs/stable/user_guide/indexing.html#returning-a-view-versus-a-copy\n"
          ],
          "name": "stderr"
        }
      ]
    },
    {
      "cell_type": "code",
      "metadata": {
        "id": "i_2EACxOYJ4M",
        "colab_type": "code",
        "colab": {}
      },
      "source": [
        "Florida = df1[df1['State'] == 'Florida']\n",
        "Ohio = df1[df1['State'] == 'Ohio']\n",
        "NC = df1[df1['State'] == 'North Carolina']"
      ],
      "execution_count": 0,
      "outputs": []
    },
    {
      "cell_type": "code",
      "metadata": {
        "id": "8gydBIK8YRyX",
        "colab_type": "code",
        "colab": {
          "base_uri": "https://localhost:8080/",
          "height": 34
        },
        "outputId": "999f29d9-bb22-41a5-9b36-5e03f90e380b"
      },
      "source": [
        "df1['Trump Voters'].sum()"
      ],
      "execution_count": 16,
      "outputs": [
        {
          "output_type": "execute_result",
          "data": {
            "text/plain": [
              "218045"
            ]
          },
          "metadata": {
            "tags": []
          },
          "execution_count": 16
        }
      ]
    },
    {
      "cell_type": "code",
      "metadata": {
        "id": "vfTO0GA6Y4Hx",
        "colab_type": "code",
        "colab": {
          "base_uri": "https://localhost:8080/",
          "height": 34
        },
        "outputId": "1c3a26f0-ac16-4e0c-f3a3-2d0dc3c5a903"
      },
      "source": [
        "df1['Biden Voters'].sum()"
      ],
      "execution_count": 17,
      "outputs": [
        {
          "output_type": "execute_result",
          "data": {
            "text/plain": [
              "329271"
            ]
          },
          "metadata": {
            "tags": []
          },
          "execution_count": 17
        }
      ]
    },
    {
      "cell_type": "code",
      "metadata": {
        "id": "HXFX9Z04ZdXL",
        "colab_type": "code",
        "colab": {
          "base_uri": "https://localhost:8080/",
          "height": 68
        },
        "outputId": "de185632-c88e-4b00-a3fb-e1515e05915c"
      },
      "source": [
        "trump = df1['Trump Voters'].sum()/(df1['Trump Voters'].sum()+df1['Biden Voters'].sum()+df1['Neutral Voters'].sum())*100\n",
        "biden = df1['Biden Voters'].sum()/(df1['Trump Voters'].sum()+df1['Biden Voters'].sum()+df1['Neutral Voters'].sum())*100\n",
        "print(\"The prediction for the 2020 election by influencer's analysis is:\")\n",
        "print('Biden: {}% \\nTrump: {}%'.format(biden,trump))"
      ],
      "execution_count": 18,
      "outputs": [
        {
          "output_type": "stream",
          "text": [
            "The prediction for the 2020 election by influencer's analysis is:\n",
            "Biden: 53.983808349618975% \n",
            "Trump: 35.74836378421626%\n"
          ],
          "name": "stdout"
        }
      ]
    },
    {
      "cell_type": "markdown",
      "metadata": {
        "id": "YxZWhizYHzKU",
        "colab_type": "text"
      },
      "source": [
        "Florida"
      ]
    },
    {
      "cell_type": "code",
      "metadata": {
        "id": "_YCrydVtHyrq",
        "colab_type": "code",
        "colab": {
          "base_uri": "https://localhost:8080/",
          "height": 51
        },
        "outputId": "dba783fb-ead8-4784-ab5f-4f07d9c78336"
      },
      "source": [
        "trump = Florida['Trump Voters'].sum()/(Florida['Trump Voters'].sum()+Florida['Biden Voters'].sum()+Florida['Neutral Voters'].sum())*100\n",
        "biden = Florida['Biden Voters'].sum()/(Florida['Trump Voters'].sum()+Florida['Biden Voters'].sum()+Florida['Neutral Voters'].sum())*100\n",
        "\n",
        "print('Biden: {}% \\nTrump: {}%'.format(biden,trump))"
      ],
      "execution_count": 19,
      "outputs": [
        {
          "output_type": "stream",
          "text": [
            "Biden: 42.857142857142854% \n",
            "Trump: 41.50827713059473%\n"
          ],
          "name": "stdout"
        }
      ]
    },
    {
      "cell_type": "markdown",
      "metadata": {
        "id": "23c5lvFVMfJk",
        "colab_type": "text"
      },
      "source": [
        "Ohio"
      ]
    },
    {
      "cell_type": "code",
      "metadata": {
        "id": "TwDQ4SCJMdiS",
        "colab_type": "code",
        "colab": {
          "base_uri": "https://localhost:8080/",
          "height": 51
        },
        "outputId": "22ee71e8-dfc7-4d03-c24b-4bbfd20cd2cf"
      },
      "source": [
        "trump = Ohio['Trump Voters'].sum()/(Ohio['Trump Voters'].sum()+Ohio['Biden Voters'].sum()+Ohio['Neutral Voters'].sum())*100\n",
        "biden = Ohio['Biden Voters'].sum()/(Ohio['Trump Voters'].sum()+Ohio['Biden Voters'].sum()+Ohio['Neutral Voters'].sum())*100\n",
        "\n",
        "print('Biden: {}% \\nTrump: {}%'.format(biden,trump))"
      ],
      "execution_count": 217,
      "outputs": [
        {
          "output_type": "stream",
          "text": [
            "Biden: 38.29588014981273% \n",
            "Trump: 51.9350811485643%\n"
          ],
          "name": "stdout"
        }
      ]
    },
    {
      "cell_type": "markdown",
      "metadata": {
        "id": "vqLsV4obMnV4",
        "colab_type": "text"
      },
      "source": [
        "North Carolina"
      ]
    },
    {
      "cell_type": "code",
      "metadata": {
        "id": "UgCbLi2gMo5j",
        "colab_type": "code",
        "colab": {
          "base_uri": "https://localhost:8080/",
          "height": 51
        },
        "outputId": "feef16ca-0369-453a-d2bf-786cd7a928f6"
      },
      "source": [
        "trump = NC['Trump Voters'].sum()/(NC['Trump Voters'].sum()+NC['Biden Voters'].sum()+NC['Neutral Voters'].sum())*100\n",
        "biden = NC['Biden Voters'].sum()/(NC['Trump Voters'].sum()+NC['Biden Voters'].sum()+NC['Neutral Voters'].sum())*100\n",
        "\n",
        "print('Biden: {}% \\nTrump: {}%'.format(biden,trump))"
      ],
      "execution_count": 218,
      "outputs": [
        {
          "output_type": "stream",
          "text": [
            "Biden: 42.41130968258202% \n",
            "Trump: 44.94531875166711%\n"
          ],
          "name": "stdout"
        }
      ]
    },
    {
      "cell_type": "markdown",
      "metadata": {
        "id": "PsriAsPF0-2C",
        "colab_type": "text"
      },
      "source": [
        "The visual analysis is performed on PowerBI."
      ]
    },
    {
      "cell_type": "code",
      "metadata": {
        "id": "47Dw8g6f28TS",
        "colab_type": "code",
        "colab": {
          "base_uri": "https://localhost:8080/",
          "height": 34
        },
        "outputId": "a3d2e755-c079-4cd3-b24a-132db78f2e83"
      },
      "source": [
        "cd /content/drive/My Drive"
      ],
      "execution_count": 13,
      "outputs": [
        {
          "output_type": "stream",
          "text": [
            "/content/drive/My Drive\n"
          ],
          "name": "stdout"
        }
      ]
    },
    {
      "cell_type": "code",
      "metadata": {
        "id": "5twZAkqm3IKW",
        "colab_type": "code",
        "colab": {}
      },
      "source": [
        "from google.colab import files\n",
        "df1.to_csv('final_twitter_set_influencer.csv')"
      ],
      "execution_count": 0,
      "outputs": []
    }
  ]
}